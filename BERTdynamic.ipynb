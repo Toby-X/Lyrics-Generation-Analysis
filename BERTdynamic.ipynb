{
 "cells": [
  {
   "cell_type": "code",
   "execution_count": 3,
   "metadata": {},
   "outputs": [
    {
     "name": "stderr",
     "output_type": "stream",
     "text": [
      "c:\\Users\\xuzhi\\.conda\\envs\\bertopicmodel\\Lib\\site-packages\\umap\\distances.py:1063: NumbaDeprecationWarning: \u001b[1mThe 'nopython' keyword argument was not supplied to the 'numba.jit' decorator. The implicit default value for this argument is currently False, but it will be changed to True in Numba 0.59.0. See https://numba.readthedocs.io/en/stable/reference/deprecation.html#deprecation-of-object-mode-fall-back-behaviour-when-using-jit for details.\u001b[0m\n",
      "  @numba.jit()\n",
      "c:\\Users\\xuzhi\\.conda\\envs\\bertopicmodel\\Lib\\site-packages\\umap\\distances.py:1071: NumbaDeprecationWarning: \u001b[1mThe 'nopython' keyword argument was not supplied to the 'numba.jit' decorator. The implicit default value for this argument is currently False, but it will be changed to True in Numba 0.59.0. See https://numba.readthedocs.io/en/stable/reference/deprecation.html#deprecation-of-object-mode-fall-back-behaviour-when-using-jit for details.\u001b[0m\n",
      "  @numba.jit()\n",
      "c:\\Users\\xuzhi\\.conda\\envs\\bertopicmodel\\Lib\\site-packages\\umap\\distances.py:1086: NumbaDeprecationWarning: \u001b[1mThe 'nopython' keyword argument was not supplied to the 'numba.jit' decorator. The implicit default value for this argument is currently False, but it will be changed to True in Numba 0.59.0. See https://numba.readthedocs.io/en/stable/reference/deprecation.html#deprecation-of-object-mode-fall-back-behaviour-when-using-jit for details.\u001b[0m\n",
      "  @numba.jit()\n",
      "c:\\Users\\xuzhi\\.conda\\envs\\bertopicmodel\\Lib\\site-packages\\tqdm\\auto.py:21: TqdmWarning: IProgress not found. Please update jupyter and ipywidgets. See https://ipywidgets.readthedocs.io/en/stable/user_install.html\n",
      "  from .autonotebook import tqdm as notebook_tqdm\n",
      "c:\\Users\\xuzhi\\.conda\\envs\\bertopicmodel\\Lib\\site-packages\\umap\\umap_.py:660: NumbaDeprecationWarning: \u001b[1mThe 'nopython' keyword argument was not supplied to the 'numba.jit' decorator. The implicit default value for this argument is currently False, but it will be changed to True in Numba 0.59.0. See https://numba.readthedocs.io/en/stable/reference/deprecation.html#deprecation-of-object-mode-fall-back-behaviour-when-using-jit for details.\u001b[0m\n",
      "  @numba.jit()\n"
     ]
    }
   ],
   "source": [
    "import numpy as np\n",
    "import pandas as pd\n",
    "from gensim.utils import simple_preprocess\n",
    "from gensim.parsing.preprocessing import remove_stopwords, strip_multiple_whitespaces, strip_punctuation\n",
    "from gensim import corpora\n",
    "from collections import defaultdict\n",
    "import pprint\n",
    "import re\n",
    "from gensim import models\n",
    "from scipy.sparse import lil_matrix, hstack, csr_matrix, vstack\n",
    "import gensim.downloader as api\n",
    "from nltk.stem.wordnet import WordNetLemmatizer\n",
    "from bertopic import BERTopic\n",
    "from umap import UMAP\n",
    "from hdbscan import HDBSCAN\n",
    "from bertopic.vectorizers import ClassTfidfTransformer\n",
    "from bertopic.representation import MaximalMarginalRelevance\n",
    "from sentence_transformers import SentenceTransformer"
   ]
  },
  {
   "cell_type": "code",
   "execution_count": 6,
   "metadata": {},
   "outputs": [],
   "source": [
    "def remove_specific_words(s):\n",
    "    s = re.sub(r\"\\bLyrics\",\" \",s)\n",
    "    s = re.sub(r\"\\[.+\\]\",\" \",s)\n",
    "    s = re.sub(r\"\\b\\d+\\b Contributors\",\" \",s)\n",
    "    s = re.sub(r\"Embed\",\" \",s)\n",
    "    return s\n",
    "\n",
    "df = pd.read_csv(\"data/billboard_lyrics_genres.csv\")\n",
    "df_activeyear = pd.read_csv(\"data/first_active_years.csv\")\n",
    "df_activeyear = df_activeyear.drop_duplicates(subset=[\"band_singer\",\"title\",\"year\"],ignore_index=True)\n",
    "df[\"active_years\"] = 0\n",
    "\n",
    "for i in range(df.shape[0]):\n",
    "    ay_tmp = df_activeyear.loc[(df_activeyear[\"band_singer\"]==df.loc[i,\"band_singer\"])&(df_activeyear[\"title\"]==df.loc[i,\"title\"])&(df_activeyear[\"year\"]==df.loc[i,\"year\"])].active_years\n",
    "    if not ay_tmp.empty:\n",
    "        df.loc[i,\"active_years\"] = int(ay_tmp)\n",
    "\n",
    "df_tmp = df.loc[df[\"active_years\"]!=0].reset_index(drop=True)\n",
    "\n",
    "df[\"lyrics\"] = df[\"lyrics\"].map(remove_specific_words)\n",
    "df[\"lyrics\"] = df[\"lyrics\"].map(str.lower)\n",
    "lemmatizer = WordNetLemmatizer()\n",
    "df[\"lyrics\"] = df[\"lyrics\"].map(lemmatizer.lemmatize)\n",
    "\n",
    "\n",
    "df[\"label\"] = np.zeros(df.shape[0])\n",
    "\n",
    "bins = [1970,1980,1990,2000,2010,np.inf]\n",
    "labels = [0,1,2,3,4,5]\n",
    "df[\"label\"] = np.where(df[\"year\"] < bins[0], labels[0],\n",
    "                               np.where(df[\"year\"] < bins[1], labels[1],\n",
    "                                        np.where(df[\"year\"] < bins[2], labels[2],\n",
    "                                                 np.where(df[\"year\"] < bins[3], labels[3],\n",
    "                                                          np.where(df[\"year\"] < bins[4], labels[4], labels[5])))))"
   ]
  },
  {
   "cell_type": "code",
   "execution_count": 7,
   "metadata": {},
   "outputs": [],
   "source": [
    "def strip_changerow(l):\n",
    "    l = re.sub(r\"\\r\",\" \",l)\n",
    "    l = re.sub(r\"\\n\",\" \",l)\n",
    "    return l\n",
    "\n",
    "corpus = []\n",
    "year = []\n",
    "\n",
    "for i in range(df.shape[0]):\n",
    "    ltmp = list(map(strip_changerow,df.loc[i,\"lyrics\"].split(\"\\r\\n\\r\\n\")))\n",
    "    ltmp = list(map(strip_multiple_whitespaces,ltmp))\n",
    "    ltmp = list(map(strip_punctuation,ltmp))\n",
    "    ltmp = [x.strip(' ') for x in ltmp]\n",
    "    ltmp = [x for x in ltmp if x!=\"\"]\n",
    "    corpus = corpus + ltmp\n",
    "    year = year + list(np.ones(len(ltmp),dtype=np.int32)*df.loc[i,\"year\"])"
   ]
  },
  {
   "attachments": {},
   "cell_type": "markdown",
   "metadata": {},
   "source": [
    "If you want to train the model or adjust the parameter, you can change the following code. If not, load the model as the next cell."
   ]
  },
  {
   "cell_type": "code",
   "execution_count": 49,
   "metadata": {},
   "outputs": [
    {
     "name": "stderr",
     "output_type": "stream",
     "text": [
      "2023-05-26 23:27:58,869 - BERTopic - Reduced dimensionality\n",
      "2023-05-26 23:28:10,253 - BERTopic - Clustered reduced embeddings\n"
     ]
    }
   ],
   "source": [
    "sentence_model = SentenceTransformer(\"all-MiniLM-L6-v2\")\n",
    "embeddings = sentence_model.encode(corpus)\n",
    "\n",
    "umap_model = UMAP(n_neighbors=10,n_components=10,metric='cosine',low_memory=False)\n",
    "hdbscan_model = HDBSCAN(min_cluster_size=10,metric=\"euclidean\",prediction_data=True)\n",
    "ctfidf_model = ClassTfidfTransformer(reduce_frequent_words=True)\n",
    "representation_model = MaximalMarginalRelevance(diversity=.4)\n",
    "topic_model = BERTopic(embedding_model=sentence_model,verbose=True,n_gram_range=(1,2),\n",
    "                       umap_model=umap_model,hdbscan_model=hdbscan_model,ctfidf_model=ctfidf_model,\n",
    "                       representation_model=representation_model)\n",
    "topics, probs = topic_model.fit_transform(corpus,embeddings)"
   ]
  },
  {
   "cell_type": "code",
   "execution_count": 4,
   "metadata": {},
   "outputs": [],
   "source": [
    "topic_model = BERTopic.load(\"BERTmodel\")"
   ]
  },
  {
   "cell_type": "code",
   "execution_count": 8,
   "metadata": {},
   "outputs": [
    {
     "name": "stderr",
     "output_type": "stream",
     "text": [
      "20it [14:48, 44.45s/it]\n"
     ]
    }
   ],
   "source": [
    "topics_over_time = topic_model.topics_over_time(corpus,year,nr_bins=20)"
   ]
  },
  {
   "cell_type": "code",
   "execution_count": 11,
   "metadata": {},
   "outputs": [
    {
     "data": {
      "application/vnd.plotly.v1+json": {
       "config": {
        "plotlyServerURL": "https://plot.ly"
       },
       "data": [
        {
         "hoverinfo": "text",
         "hovertext": [
          "<b>Topic 0</b><br>Words: kookie kookie, wop wop, knock yourself, connie, out comeon",
          "<b>Topic 0</b><br>Words: surf city, city gonna, two girls, fun ya, it two",
          "<b>Topic 0</b><br>Words: hazel she, skrt skrt, clown hooray, her tricks, cool jerk",
          "<b>Topic 0</b><br>Words: real rock, rock it, la lo, sock it, let dig",
          "<b>Topic 0</b><br>Words: gon take, sock it, def jam, samples, said falsetto",
          "<b>Topic 0</b><br>Words: island girl, call us, on take, your white, man world",
          "<b>Topic 0</b><br>Words: go hard, surfin safari, nigga like, oooo rev, that chrome",
          "<b>Topic 0</b><br>Words: comes watch, she bop, eight eight, maneater ooh, shoelace",
          "<b>Topic 0</b><br>Words: romance no, be square, hip to, strut pout, sucker djs",
          "<b>Topic 0</b><br>Words: ice baby, shaba dootin, money money, dj revolves, hook while",
          "<b>Topic 0</b><br>Words: ya jump, make ya, efx, kross, ditty if",
          "<b>Topic 0</b><br>Words: and doin, get money, up wake, flava in, ya ear",
          "<b>Topic 0</b><br>Words: who dat, yai yai, faber, beatty, granger",
          "<b>Topic 0</b><br>Words: izz, so fresh, bounce with, bah bah, big pimpin",
          "<b>Topic 0</b><br>Words: wit it, lean, nigga, ridin dirty, head sprung",
          "<b>Topic 0</b><br>Words: bought cadillac, bay bay, dollar bill, is habit, stuntin stuntin",
          "<b>Topic 0</b><br>Words: ass ass, bitch rack, swerve, dougie, blah blah",
          "<b>Topic 0</b><br>Words: bitch better, different yeah, tuesday got, like ayo, nigga",
          "<b>Topic 0</b><br>Words: hol, skrrt, we lit, up fuck, low life",
          "<b>Topic 0</b><br>Words: nigga, these niggas, that shit, walk em, bitches"
         ],
         "marker": {
          "color": "#E69F00"
         },
         "mode": "lines",
         "name": "0_montag_pussy_these niggas_fuckin",
         "type": "scatter",
         "x": [
          1958.937,
          1962.15,
          1965.3,
          1968.45,
          1971.6,
          1974.75,
          1977.9,
          1981.05,
          1984.2,
          1987.35,
          1990.5,
          1993.65,
          1996.8,
          1999.95,
          2003.1,
          2006.25,
          2009.4,
          2012.55,
          2015.7,
          2018.85
         ],
         "y": [
          11,
          6,
          25,
          23,
          17,
          23,
          21,
          11,
          6,
          14,
          80,
          100,
          155,
          186,
          253,
          163,
          136,
          128,
          198,
          280
         ]
        },
        {
         "hoverinfo": "text",
         "hovertext": [
          "<b>Topic 1</b><br>Words: royal majesty, her royal, presenting her, gentlemen presenting, mme",
          "<b>Topic 1</b><br>Words: pros de, cat named, fine instead, dokeei the, mss have",
          "<b>Topic 1</b><br>Words: deuses, dos deuses, insensitive frank, how insensitive, deuses joyce",
          "<b>Topic 1</b><br>Words: he intimated, may saint, art in, edifice being, school such",
          "<b>Topic 1</b><br>Words: de guermantes, saint loup, de villeparisis, bloch, françoise",
          "<b>Topic 1</b><br>Words: bob thanks, showering your, mother stink, after gave, holden no",
          "<b>Topic 1</b><br>Words: cease prayce, prayce storywalkering, swinking about, plan unrawil, gestare romano",
          "<b>Topic 1</b><br>Words: student fiercely, were gods, is contemptible, aristocrats and, besides to",
          "<b>Topic 1</b><br>Words: dominican broad, she transferred, drinking german, to harvard, art michelangelo"
         ],
         "marker": {
          "color": "#56B4E9"
         },
         "mode": "lines",
         "name": "1_de guermantes_saint loup_de villeparis...",
         "type": "scatter",
         "x": [
          1958.937,
          1962.15,
          1965.3,
          1968.45,
          1974.75,
          1977.9,
          1993.65,
          1996.8,
          2009.4
         ],
         "y": [
          1,
          2,
          4,
          10,
          684,
          1,
          1,
          1,
          1
         ]
        },
        {
         "hoverinfo": "text",
         "hovertext": [
          "<b>Topic 2</b><br>Words: she cried, good care, go jimmy, feet she, girl hug",
          "<b>Topic 2</b><br>Words: her standing, heart full, her sad, started kissin, little does",
          "<b>Topic 2</b><br>Words: delilah, saw her, delilah why, my delilah, delilah so",
          "<b>Topic 2</b><br>Words: knows like, help believing, rosemary goes, love grows, was revelation",
          "<b>Topic 2</b><br>Words: chance should, would pick, should hold, first sight, cool woman",
          "<b>Topic 2</b><br>Words: worry baby, it ended, she walked, of exhilaration, me sorrowfully",
          "<b>Topic 2</b><br>Words: she lays, her someday, little songs, she believes, special night",
          "<b>Topic 2</b><br>Words: her about, tell her, her goes, magic everything, was tragic",
          "<b>Topic 2</b><br>Words: her again, knew someday, kept saying, hold her, final word",
          "<b>Topic 2</b><br>Words: gotta blame, then leaves, her everything, flame tying, affection here",
          "<b>Topic 2</b><br>Words: pray this, cause die, she cries, she deserves, woman little",
          "<b>Topic 2</b><br>Words: unplug her, probably curse, probably leave, her phone, girl only",
          "<b>Topic 2</b><br>Words: herself universe, universe she, where everything, than ray, living she",
          "<b>Topic 2</b><br>Words: whatcha gon, show boy, feelings start, that whatcha, handle that",
          "<b>Topic 2</b><br>Words: girl lookin, want anyone, she bittersweet, she mystery, she knocks",
          "<b>Topic 2</b><br>Words: home ha, she rubs, brain just, party she, worse that",
          "<b>Topic 2</b><br>Words: she ain, talks everybody, afraid afraid, lips hurt, shack mama",
          "<b>Topic 2</b><br>Words: she grants, knees looked, kc lights, wishes like, like genie",
          "<b>Topic 2</b><br>Words: home coming, invite knew, night cross, thoughts goin, almost kissed",
          "<b>Topic 2</b><br>Words: hope she, find glimpse, she cheats, still traitor, free tell"
         ],
         "marker": {
          "color": "#009E73"
         },
         "mode": "lines",
         "name": "2_whatcha gon_hold her_hope she_delilah",
         "type": "scatter",
         "x": [
          1958.937,
          1962.15,
          1965.3,
          1968.45,
          1971.6,
          1974.75,
          1977.9,
          1981.05,
          1984.2,
          1987.35,
          1990.5,
          1993.65,
          1996.8,
          1999.95,
          2003.1,
          2006.25,
          2009.4,
          2012.55,
          2015.7,
          2018.85
         ],
         "y": [
          41,
          41,
          29,
          47,
          15,
          25,
          29,
          31,
          30,
          19,
          16,
          11,
          8,
          33,
          9,
          9,
          14,
          5,
          5,
          25
         ]
        },
        {
         "hoverinfo": "text",
         "hovertext": [
          "<b>Topic 3</b><br>Words: dance again, never no, whose arms, darlin save, the eh",
          "<b>Topic 3</b><br>Words: street dancing, re dancing, city dancing, girl everywhere, shake go",
          "<b>Topic 3</b><br>Words: music dance, afro twist, organ said, ride sally, 1000 dances",
          "<b>Topic 3</b><br>Words: or harnesses, where whatever, fetishes, bleacher seats, ballet for",
          "<b>Topic 3</b><br>Words: dance do, moonlight hug, dance under, wanna dance, dirty and",
          "<b>Topic 3</b><br>Words: dancing yeah, dancing woo, school dance, can dance, back hey",
          "<b>Topic 3</b><br>Words: shout shake, body down, let dance, baby dance, music tight",
          "<b>Topic 3</b><br>Words: can dance, up shake, dance all, dance let, dance we",
          "<b>Topic 3</b><br>Words: wanna dance, dance again, somebody yeah, dance don, rhythm though",
          "<b>Topic 3</b><br>Words: stop dancing, soul dance, power not, heart soul, kill you",
          "<b>Topic 3</b><br>Words: it rhythm, voices free, dancer it, everywhere lift, dancer rhythm",
          "<b>Topic 3</b><br>Words: dreams keep, feeling dance, dance trance, comin harder, move totally",
          "<b>Topic 3</b><br>Words: dance wit, hands night, all clap, matter your, dance all",
          "<b>Topic 3</b><br>Words: that song, dj play, timberlake rock, song play, you dance",
          "<b>Topic 3</b><br>Words: dance dance, ceiling everybody, how misery, to half, shakira",
          "<b>Topic 3</b><br>Words: doot just, dance gonna, goddamn arms, ain scene, dance spin",
          "<b>Topic 3</b><br>Words: dj got, just dance, us falling, somebody get, me turn",
          "<b>Topic 3</b><br>Words: tell em, money money, don dance, summer fuckin, dancer need",
          "<b>Topic 3</b><br>Words: wasted zombie, rhythm oh, rhythm chained, yeah stumbling, dance come",
          "<b>Topic 3</b><br>Words: jackson could, stranger dancing, baby dancing, could dance, human it"
         ],
         "marker": {
          "color": "#F0E442"
         },
         "mode": "lines",
         "name": "3_can dance_wanna dance_dance the_dancin...",
         "type": "scatter",
         "x": [
          1958.937,
          1962.15,
          1965.3,
          1968.45,
          1971.6,
          1974.75,
          1977.9,
          1981.05,
          1984.2,
          1987.35,
          1990.5,
          1993.65,
          1996.8,
          1999.95,
          2003.1,
          2006.25,
          2009.4,
          2012.55,
          2015.7,
          2018.85
         ],
         "y": [
          22,
          7,
          5,
          4,
          7,
          39,
          36,
          31,
          19,
          8,
          7,
          3,
          10,
          29,
          15,
          11,
          8,
          17,
          2,
          7
         ]
        },
        {
         "hoverinfo": "text",
         "hovertext": [
          "<b>Topic 4</b><br>Words: on dreamin, as whispered, this wonderful, divine swept, night gazed",
          "<b>Topic 4</b><br>Words: on schemin, sprinkle stardust, dreams candy, sleep everything, night softly",
          "<b>Topic 4</b><br>Words: dream last, spooky, light had, too much, of across",
          "<b>Topic 4</b><br>Words: hollywood movie, dream he, and dreamed, do watercolor, crazy ones",
          "<b>Topic 4</b><br>Words: were clouds, dreams left, replace replace, more find, coffee clouds",
          "<b>Topic 4</b><br>Words: on dream, dream until, true dream, dream holding, the passionate",
          "<b>Topic 4</b><br>Words: on tight, dream about, we killed, us anywhere, everlasting dream",
          "<b>Topic 4</b><br>Words: can dream, dream about, eyes do, yah mo, sleep hear",
          "<b>Topic 4</b><br>Words: these dreams, dreams as, real as, moment awake, that sleep",
          "<b>Topic 4</b><br>Words: eyes forever, forever will, remain unchanged, it tragedy, shattered dreams",
          "<b>Topic 4</b><br>Words: dream control, dream is, real or, spinning spinning, on dream",
          "<b>Topic 4</b><br>Words: american dream, european dream, candy rain, hilda, dreamed the",
          "<b>Topic 4</b><br>Words: ever really, lovers past, anarchy ve, on coffee, and nicotine",
          "<b>Topic 4</b><br>Words: dream of, vain dream, of gardens, sand wake, rain dream",
          "<b>Topic 4</b><br>Words: and differ, hollow lies, dawning, our lives, glimpse and",
          "<b>Topic 4</b><br>Words: want piece, put pictures, was 17, derriere in, miss american",
          "<b>Topic 4</b><br>Words: our distance, didn listen, oh86, radio hope, alienation know",
          "<b>Topic 4</b><br>Words: optimist about, eyes does, almost feel, before how, close your",
          "<b>Topic 4</b><br>Words: started writing, songs started, sleep are, libertines never, never growing",
          "<b>Topic 4</b><br>Words: dream got, been dreamin, ex boyfriend, translationstürkçeрусскийromânăportuguêsitalianohebrewdeutschfrançaisفارسیnederlandsdanskespañollucid dreams, queen thanks"
         ],
         "marker": {
          "color": "#D55E00"
         },
         "mode": "lines",
         "name": "4_dream about_can dream_these dreams_dre...",
         "type": "scatter",
         "x": [
          1958.937,
          1962.15,
          1965.3,
          1968.45,
          1971.6,
          1974.75,
          1977.9,
          1981.05,
          1984.2,
          1987.35,
          1990.5,
          1993.65,
          1996.8,
          1999.95,
          2003.1,
          2006.25,
          2009.4,
          2012.55,
          2015.7,
          2018.85
         ],
         "y": [
          4,
          5,
          15,
          8,
          8,
          14,
          33,
          36,
          24,
          26,
          24,
          14,
          6,
          17,
          8,
          6,
          4,
          5,
          3,
          8
         ]
        },
        {
         "hoverinfo": "text",
         "hovertext": [
          "<b>Topic 5</b><br>Words: sebastian quietly, not are, through said, don sebastian, be why",
          "<b>Topic 5</b><br>Words: it vincent, do vincent, vincent how, vincent think, vincent no",
          "<b>Topic 5</b><br>Words: artist gus, true artist, ben you, re, vincent you"
         ],
         "marker": {
          "color": "#0072B2"
         },
         "mode": "lines",
         "name": "5_it vincent_do vincent_here vincent_vin...",
         "type": "scatter",
         "x": [
          1968.45,
          1974.75,
          1977.9
         ],
         "y": [
          2,
          257,
          1
         ]
        },
        {
         "hoverinfo": "text",
         "hovertext": [
          "<b>Topic 6</b><br>Words: meme ortiz, ortiz, coolidge, fabienne, butch butch",
          "<b>Topic 6</b><br>Words: doll gaudio, crewe, gaudio crewe, rag, coolidge",
          "<b>Topic 6</b><br>Words: slogan summon, sweep dinah, house sweep, saloon slogan, answer pore",
          "<b>Topic 6</b><br>Words: tahiti for, you pigeon, more men, to tahiti, america sylvester",
          "<b>Topic 6</b><br>Words: coolidge, fabienne, butch butch, sportscaster, boxing",
          "<b>Topic 6</b><br>Words: luke brodie, sticks box, lock clicks, numbers roll, readout numbers",
          "<b>Topic 6</b><br>Words: sylvester someone, america sylvester, supertramp breakfast, breakfast in, like you",
          "<b>Topic 6</b><br>Words: hoppus the, state looks, on sodomy, mark, down"
         ],
         "marker": {
          "color": "#CC79A7"
         },
         "mode": "lines",
         "name": "6_coolidge_fabienne_butch butch_sportsca...",
         "type": "scatter",
         "x": [
          1958.937,
          1962.15,
          1965.3,
          1968.45,
          1974.75,
          1977.9,
          1981.05,
          2009.4
         ],
         "y": [
          1,
          1,
          1,
          3,
          243,
          5,
          1,
          1
         ]
        },
        {
         "hoverinfo": "text",
         "hovertext": [
          "<b>Topic 7</b><br>Words: più, despacio, lassu, la vita, mas alto",
          "<b>Topic 7</b><br>Words: citta, figaro figaro, te fortuna, figaro bravo, bravissimo",
          "<b>Topic 7</b><br>Words: verso es, poems are, crece la, tierra quiero, hombre sincero",
          "<b>Topic 7</b><br>Words: belle amie, were child, blue sea, tout les, beau jours",
          "<b>Topic 7</b><br>Words: eres tú, así eres, algo así, el fuego, tú el",
          "<b>Topic 7</b><br>Words: spanish guitar, julian, leo turner, villa lobos, guitar",
          "<b>Topic 7</b><br>Words: fine colombian, colombian make, cuervo gold, make tonight, buffalo boots",
          "<b>Topic 7</b><br>Words: revolution dirty, da zenyatta, mondatta every, regatta de, times around",
          "<b>Topic 7</b><br>Words: señorita más, esa niña, más fina, quién es, la bamba",
          "<b>Topic 7</b><br>Words: skeezer, mañana es, otra cosa, do confess, lengua venenosa",
          "<b>Topic 7</b><br>Words: sade dit, moi hosanna, hosanna sade, christi amen, rico suave",
          "<b>Topic 7</b><br>Words: cuerpo alegría, alegría macarena, macarena que, buena dale, cuerpo es",
          "<b>Topic 7</b><br>Words: morena boricua, quiero amor, bailamos te, amor mío, como",
          "<b>Topic 7</b><br>Words: ma ghair, antia ma, ghair antia, aman aman, maravilla que",
          "<b>Topic 7</b><br>Words: rompe rompe, rompe bien, bien guilla, duele tanto, me duele",
          "<b>Topic 7</b><br>Words: rumba, oye que, que bola, bola mujeres, cómo rumba",
          "<b>Topic 7</b><br>Words: tengo la, venezuela muah, boricua besito, for visas, para toda",
          "<b>Topic 7</b><br>Words: no puedo, puedo más, bailando bailando, contigo, me gusta",
          "<b>Topic 7</b><br>Words: el, como, tás dura, yo te, quiero",
          "<b>Topic 7</b><br>Words: el, pero, está, cuando, lo que"
         ],
         "marker": {
          "color": "#E69F00"
         },
         "mode": "lines",
         "name": "7_el_como_pero_es",
         "type": "scatter",
         "x": [
          1958.937,
          1962.15,
          1965.3,
          1968.45,
          1971.6,
          1974.75,
          1977.9,
          1981.05,
          1984.2,
          1987.35,
          1990.5,
          1993.65,
          1996.8,
          1999.95,
          2003.1,
          2006.25,
          2009.4,
          2012.55,
          2015.7,
          2018.85
         ],
         "y": [
          7,
          8,
          6,
          7,
          7,
          3,
          3,
          1,
          7,
          3,
          7,
          9,
          10,
          7,
          16,
          7,
          2,
          15,
          35,
          91
         ]
        },
        {
         "hoverinfo": "text",
         "hovertext": [
          "<b>Topic 8</b><br>Words: morgen morgen, wir heut, schöne zeit, rachel says, fat face",
          "<b>Topic 8</b><br>Words: giving earth, thee home, two blasts, is reposing, do blow",
          "<b>Topic 8</b><br>Words: gripes, the mookse, talis, schott, the lug",
          "<b>Topic 8</b><br>Words: nin nin, fairness of, champouree, shall, meaned",
          "<b>Topic 8</b><br>Words: critique2, shot grandstandin, shameless hussy, streak ethel, in caves",
          "<b>Topic 8</b><br>Words: combray, the dexterity, thy hawthorns, three peals, lily oaks",
          "<b>Topic 8</b><br>Words: making classic, illmatic clips, tiny offshoot, lettuce smoking, while acid",
          "<b>Topic 8</b><br>Words: sheila like, gander oh, oh sheila, goose is, always say",
          "<b>Topic 8</b><br>Words: elf, santa, emily, miles finch, buddy is",
          "<b>Topic 8</b><br>Words: sayd, sagd he, kersse, cake or, of england",
          "<b>Topic 8</b><br>Words: aardvarck 2wo, elf, santa, papa elf, sleigh",
          "<b>Topic 8</b><br>Words: on scootch, over closer, scootch on, will nibble, dear and",
          "<b>Topic 8</b><br>Words: name ben, job ferg, mob alhamdulillah, chain tourneau, alhamdulillah check",
          "<b>Topic 8</b><br>Words: clout, for clout, clout anything, clout do, clout clout"
         ],
         "marker": {
          "color": "#56B4E9"
         },
         "mode": "lines",
         "name": "8_elf_santa_papa elf_sleigh",
         "type": "scatter",
         "x": [
          1958.937,
          1962.15,
          1965.3,
          1968.45,
          1971.6,
          1974.75,
          1977.9,
          1984.2,
          1990.5,
          1993.65,
          1999.95,
          2006.25,
          2015.7,
          2018.85
         ],
         "y": [
          3,
          1,
          45,
          79,
          2,
          5,
          4,
          1,
          3,
          91,
          1,
          1,
          1,
          1
         ]
        },
        {
         "hoverinfo": "text",
         "hovertext": [
          "<b>Topic 9</b><br>Words: horses pink, pointer sisters, moon animals, floyd meddle, animals pointer",
          "<b>Topic 9</b><br>Words: neighborhood slowly, slowly came, came alive, doors opened, by one",
          "<b>Topic 9</b><br>Words: gags belt, belt goes, ball sticks, moves bob, separate chairs",
          "<b>Topic 9</b><br>Words: jay and, suzanne, and silent, bob and, at each",
          "<b>Topic 9</b><br>Words: horses pink, pointer sisters, moon animals, floyd meddle, animals pointer",
          "<b>Topic 9</b><br>Words: bobbin your, head cause, it orthodontists, house beyotch, row let",
          "<b>Topic 9</b><br>Words: tim bob, down tim, valentino you, it another, slow down",
          "<b>Topic 9</b><br>Words: dick jokes, the dick, the one, silent bob, jay and"
         ],
         "marker": {
          "color": "#009E73"
         },
         "mode": "lines",
         "name": "9_jay and_suzanne_and silent_bob and",
         "type": "scatter",
         "x": [
          1968.45,
          1971.6,
          1974.75,
          1977.9,
          1981.05,
          1993.65,
          2003.1,
          2009.4
         ],
         "y": [
          1,
          1,
          2,
          226,
          1,
          3,
          1,
          1
         ]
        },
        {
         "hoverinfo": "text",
         "hovertext": [
          "<b>Topic 10</b><br>Words: burning sand, darius the, dripping off, rubies, had emeralds",
          "<b>Topic 10</b><br>Words: croesus, cyrus, persians, the lydians, astyages",
          "<b>Topic 10</b><br>Words: atlantis, ocean where, she may, sighting whale, odessa in",
          "<b>Topic 10</b><br>Words: classical conspiracy, epica the, divine conspiracy, 2009 the, the persians",
          "<b>Topic 10</b><br>Words: lions colonel, nationalists will, fat upon, zeus has, athena daughter",
          "<b>Topic 10</b><br>Words: very dangerous, willenholly there, considered very, to suggest, be considered",
          "<b>Topic 10</b><br>Words: empire garrison, empire crumbles, the workmen, and temple, romans built"
         ],
         "marker": {
          "color": "#F0E442"
         },
         "mode": "lines",
         "name": "10_croesus_cyrus_persians_the lydians",
         "type": "scatter",
         "x": [
          1958.937,
          1962.15,
          1968.45,
          1971.6,
          1974.75,
          1977.9,
          1990.5
         ],
         "y": [
          2,
          213,
          6,
          1,
          1,
          1,
          2
         ]
        },
        {
         "hoverinfo": "text",
         "hovertext": [
          "<b>Topic 11</b><br>Words: translationsportuguêsplease, translationsespañolportuguêsi want, translationsespañolportuguêslove me, ride think, love translationsespañolportuguêsticket",
          "<b>Topic 11</b><br>Words: love love, tomorrow girl, fightin baby, talking till, translationsespañolhold me",
          "<b>Topic 11</b><br>Words: translationsespañolwaterloo my, quite similar, waterloo napoleon, translationsdeutschnights in, written never",
          "<b>Topic 11</b><br>Words: translationsespañolnew kid, expectations everybody, translationsportuguêsgo your, familiar great, feel if",
          "<b>Topic 11</b><br>Words: anyplace anywhere, appelle moi, languages of, translationsespañolit, ooh amore",
          "<b>Topic 11</b><br>Words: fais amour, amour asked, baby viens, translationsportuguêsitalianolucky star, amour avec",
          "<b>Topic 11</b><br>Words: lost was, prayer once, you shying, preach papa, translationspolskieverybody",
          "<b>Topic 11</b><br>Words: get ain, give is, breaking what, goodbye well, lies bleedin",
          "<b>Topic 11</b><br>Words: and sweeter, my playground, deeper and, translationsportuguêsenglishwhat, translationsportuguêsbed",
          "<b>Topic 11</b><br>Words: da dee, translationstürkçeone sweet, translationsespañolbe my, translationsenglishwonderwall today, lover la",
          "<b>Topic 11</b><br>Words: just hard, face again, heart not, disappear what, unkind bring",
          "<b>Topic 11</b><br>Words: discriminate, space to, the crips, translationsportuguêsbeautiful, mamas think",
          "<b>Topic 11</b><br>Words: ba da, ca feel, slow jamz, change sha, good change",
          "<b>Topic 11</b><br>Words: disco stick, translationsespañolportuguêslovegame let, stick translationsespañolportuguêspaparazzi, translationsespañolportuguêswhite horse, translationsespañolportuguêsdeutschlove story",
          "<b>Topic 11</b><br>Words: whataya want, so international, ace translationsportuguêsi, translationsenglishsure, my eighteenth",
          "<b>Topic 11</b><br>Words: for warning, crashed my, car into, burn threw, watched let",
          "<b>Topic 11</b><br>Words: beautiful somethin, ain sorry, mothafuckin record, pipe buy, miracle oh",
          "<b>Topic 11</b><br>Words: cat say, morning keep, no punches, hate you, only intentions"
         ],
         "marker": {
          "color": "#D55E00"
         },
         "mode": "lines",
         "name": "11_sha ba_change change_ca feel_for warn...",
         "type": "scatter",
         "x": [
          1962.15,
          1965.3,
          1971.6,
          1974.75,
          1977.9,
          1981.05,
          1984.2,
          1987.35,
          1990.5,
          1993.65,
          1996.8,
          1999.95,
          2003.1,
          2006.25,
          2009.4,
          2012.55,
          2015.7,
          2018.85
         ],
         "y": [
          6,
          3,
          2,
          2,
          5,
          2,
          8,
          6,
          6,
          4,
          4,
          5,
          10,
          9,
          23,
          34,
          40,
          30
         ]
        },
        {
         "hoverinfo": "text",
         "hovertext": [
          "<b>Topic 12</b><br>Words: such bally, bally racket, up will, shut up, don make",
          "<b>Topic 12</b><br>Words: asked corey, us asked, any of, of us, jay yo",
          "<b>Topic 12</b><br>Words: fuck jay, gay jay, fuck mother, you jay, beers",
          "<b>Topic 12</b><br>Words: vu bass, uh 808, hat uh, jay déjà, huh ready"
         ],
         "marker": {
          "color": "#0072B2"
         },
         "mode": "lines",
         "name": "12_jay yo_fuck jay_fuck mother_gay jay",
         "type": "scatter",
         "x": [
          1968.45,
          1974.75,
          1977.9,
          2003.1
         ],
         "y": [
          1,
          1,
          191,
          2
         ]
        },
        {
         "hoverinfo": "text",
         "hovertext": [
          "<b>Topic 13</b><br>Words: virus, isn hiv, reaches anything, improvement all, own distressful",
          "<b>Topic 13</b><br>Words: human rights, haiti, clinton, democratic, reported",
          "<b>Topic 13</b><br>Words: being color, nations causing, africans need, causing grief, tale see"
         ],
         "marker": {
          "color": "#CC79A7"
         },
         "mode": "lines",
         "name": "13_human rights_haiti_clinton_democratic",
         "type": "scatter",
         "x": [
          1968.45,
          1984.2,
          1990.5
         ],
         "y": [
          2,
          190,
          2
         ]
        },
        {
         "hoverinfo": "text",
         "hovertext": [
          "<b>Topic 14</b><br>Words: tell him, heart loves, ask his, asks for, lips little",
          "<b>Topic 14</b><br>Words: he good, show him, kiss him, be his, prayin wishin",
          "<b>Topic 14</b><br>Words: talkin guy, talkin sweet, healthy in, he sweet, town doing",
          "<b>Topic 14</b><br>Words: living give, love unkind, couldn cope, sometimes love, feel blue",
          "<b>Topic 14</b><br>Words: start as, him near, flame should, woe and, to shambala",
          "<b>Topic 14</b><br>Words: wouldn break, he try, like love, tear us, very flattering",
          "<b>Topic 14</b><br>Words: is enough, arms break, heartache love, reason when, show him",
          "<b>Topic 14</b><br>Words: don talk, fall should, tight gonna, should play, him tonight",
          "<b>Topic 14</b><br>Words: hire should, eloquence for, match his, soothe the, body supreme",
          "<b>Topic 14</b><br>Words: express himself, might regret, baby ready, him express, one givin",
          "<b>Topic 14</b><br>Words: he all, love more, he fills, than ve, man need",
          "<b>Topic 14</b><br>Words: he mine, got him, once but, of had, to dry",
          "<b>Topic 14</b><br>Words: waste your, be mine, don treat, like he, he should",
          "<b>Topic 14</b><br>Words: he loves, can love, into what, no chains, you he",
          "<b>Topic 14</b><br>Words: knows unfaithful, him dying, confused ain, best compliment, bitch met",
          "<b>Topic 14</b><br>Words: but wait, then let, ain gonna, he should, are star",
          "<b>Topic 14</b><br>Words: wouldn count, forever looks, is bone, say beauty, proves relationship",
          "<b>Topic 14</b><br>Words: wait will, handsome as, hell he, condition is, excess you",
          "<b>Topic 14</b><br>Words: and missing, he knows, another hands, minded heart, loves fake",
          "<b>Topic 14</b><br>Words: good ones, feelin good, book one, ones and, walk your"
         ],
         "marker": {
          "color": "#E69F00"
         },
         "mode": "lines",
         "name": "14_he loves_talkin guy_him no_talkin swe...",
         "type": "scatter",
         "x": [
          1958.937,
          1962.15,
          1965.3,
          1968.45,
          1971.6,
          1974.75,
          1977.9,
          1981.05,
          1984.2,
          1987.35,
          1990.5,
          1993.65,
          1996.8,
          1999.95,
          2003.1,
          2006.25,
          2009.4,
          2012.55,
          2015.7,
          2018.85
         ],
         "y": [
          13,
          21,
          11,
          16,
          6,
          8,
          17,
          8,
          3,
          4,
          9,
          6,
          9,
          22,
          7,
          15,
          1,
          3,
          2,
          10
         ]
        },
        {
         "hoverinfo": "text",
         "hovertext": [
          "<b>Topic 15</b><br>Words: new always, has mind, always think, on nothing, guess my",
          "<b>Topic 15</b><br>Words: little things, were on, me glad, got wounds, wounds to",
          "<b>Topic 15</b><br>Words: head over, think goin, mind ease, 24 songs, 24 days",
          "<b>Topic 15</b><br>Words: do ya, care julie, change my, mind baby, vanity turn",
          "<b>Topic 15</b><br>Words: you daydreaming, daydreaming and, daydreaming thinking, love floating, daydreaming daydreaming",
          "<b>Topic 15</b><br>Words: turns misty, blue misty, mind can, my meter, mellow there",
          "<b>Topic 15</b><br>Words: everytime think, ticking away, it ticking, always turns, ours will",
          "<b>Topic 15</b><br>Words: blows my, thinking about, love just, always on, my mind",
          "<b>Topic 15</b><br>Words: touch out, not around, cold girl, soul alone, when think",
          "<b>Topic 15</b><br>Words: were always, done never, mind little, time help, feel fine",
          "<b>Topic 15</b><br>Words: shi, pow pow, be understanding, understanding hope, demanding cause",
          "<b>Topic 15</b><br>Words: re on, stroke you, hey every, feel lately, it driving",
          "<b>Topic 15</b><br>Words: sittin away, away watchin, been watchin, by lately, days go",
          "<b>Topic 15</b><br>Words: head boy, all think, know crazy, than dare, loving is",
          "<b>Topic 15</b><br>Words: please someone, me losin, eight seconds, it lost, overtime she",
          "<b>Topic 15</b><br>Words: im feelin, finish last, my conscious, six lovers, timberlake time",
          "<b>Topic 15</b><br>Words: head it, screamin loud, fulfill my, not over, foreplay",
          "<b>Topic 15</b><br>Words: hey maybe, maybe out, going deaf, deaf hey, blind hey",
          "<b>Topic 15</b><br>Words: thinkin too, complicated don, explain it, ya need, losin my",
          "<b>Topic 15</b><br>Words: off my, get you, now mind, mind can, late night"
         ],
         "marker": {
          "color": "#56B4E9"
         },
         "mode": "lines",
         "name": "15_julie julie_everytime think_thinkin t...",
         "type": "scatter",
         "x": [
          1958.937,
          1962.15,
          1965.3,
          1968.45,
          1971.6,
          1974.75,
          1977.9,
          1981.05,
          1984.2,
          1987.35,
          1990.5,
          1993.65,
          1996.8,
          1999.95,
          2003.1,
          2006.25,
          2009.4,
          2012.55,
          2015.7,
          2018.85
         ],
         "y": [
          2,
          8,
          4,
          6,
          8,
          10,
          14,
          6,
          11,
          9,
          6,
          21,
          17,
          5,
          9,
          5,
          7,
          1,
          18,
          10
         ]
        },
        {
         "hoverinfo": "text",
         "hovertext": [
          "<b>Topic 16</b><br>Words: my cryin, eyes falling, be raindrops, the rainyou, drops fallin",
          "<b>Topic 16</b><br>Words: rain come, roof got, might drown, come down, pitter patter",
          "<b>Topic 16</b><br>Words: rain let, would rain, rain rain, how wish, eyed girl",
          "<b>Topic 16</b><br>Words: rainin rainin, day feelin, rainy day, candles in, keep fallin",
          "<b>Topic 16</b><br>Words: go outside, rain wanna, sound crazy, shambala wash, wash away",
          "<b>Topic 16</b><br>Words: rain walking, hear laughter, the happy, rainy days, days and",
          "<b>Topic 16</b><br>Words: love rainy, rain kept, rain against, rain can, night well",
          "<b>Topic 16</b><br>Words: falling on, rain again, head like, like lovers, new emotion",
          "<b>Topic 16</b><br>Words: tears roll, mandolin rain, she turns, banjo wind, song drifting",
          "<b>Topic 16</b><br>Words: rain down, would rain, yes wish, rain is, rain don",
          "<b>Topic 16</b><br>Words: love coming, rain feel, like rain, tips hear, pain only",
          "<b>Topic 16</b><br>Words: will love, bright bright, falling rain, droughty the, flower need",
          "<b>Topic 16</b><br>Words: rain kiss, rain hello, cryin cryin, pouring down, line are",
          "<b>Topic 16</b><br>Words: pain from, lord won, tryna wash, about chasin, breathe baby",
          "<b>Topic 16</b><br>Words: umbrella ella, ayy under, oath ma, rainin more, together told",
          "<b>Topic 16</b><br>Words: together nothing, raining down, fallen somehow, burned while, it screamin",
          "<b>Topic 16</b><br>Words: rage on, storm rage, sky let, here stand, it go",
          "<b>Topic 16</b><br>Words: like hurricane, drivin thunder, shinin rain, stars quit, sight had",
          "<b>Topic 16</b><br>Words: me rain, rain rain, alive rain, be dry, fly rain"
         ],
         "marker": {
          "color": "#009E73"
         },
         "mode": "lines",
         "name": "16_rain rain_love rainy_rain can_would r...",
         "type": "scatter",
         "x": [
          1958.937,
          1962.15,
          1965.3,
          1968.45,
          1971.6,
          1974.75,
          1977.9,
          1981.05,
          1984.2,
          1987.35,
          1990.5,
          1993.65,
          1996.8,
          1999.95,
          2006.25,
          2009.4,
          2012.55,
          2015.7,
          2018.85
         ],
         "y": [
          10,
          12,
          10,
          14,
          12,
          7,
          22,
          8,
          8,
          8,
          17,
          6,
          7,
          7,
          5,
          2,
          1,
          4,
          10
         ]
        },
        {
         "hoverinfo": "text",
         "hovertext": [
          "<b>Topic 17</b><br>Words: lies darlin, those lies, hurt way, just believe, than lifetime",
          "<b>Topic 17</b><br>Words: tellin dirty, he believe, bother the, size tellin, size wah",
          "<b>Topic 17</b><br>Words: well say, you ought, secrets confide, be truthing, stolen minutes",
          "<b>Topic 17</b><br>Words: liar liar, 3535 ain, lies everything, then entreat, substance really",
          "<b>Topic 17</b><br>Words: bad knocked, virgin child, your inhibitions, unfold upstairs, is untidy",
          "<b>Topic 17</b><br>Words: said woman, know trapped, innocence go, through someone, my reply",
          "<b>Topic 17</b><br>Words: secret secret, kilroy kilroy, lies worth, accusation before, lies would",
          "<b>Topic 17</b><br>Words: lies tell, can disguise, would lie, little lies, sugar would",
          "<b>Topic 17</b><br>Words: believe or, street degree, door babe, other fish, last cry",
          "<b>Topic 17</b><br>Words: would lie, baby would, true girl, find reason, lied straight",
          "<b>Topic 17</b><br>Words: said loved, inside said, em your, never lie, lie again",
          "<b>Topic 17</b><br>Words: you lied, deception and, yes cried, mind only, cry what",
          "<b>Topic 17</b><br>Words: endless story, things deserve, my territory, pretending everything, big lie",
          "<b>Topic 17</b><br>Words: little secret, secret dirty, your secrets, tell won, secret don",
          "<b>Topic 17</b><br>Words: crumble down, lies crumble, lies weave, leading man, intricate do",
          "<b>Topic 17</b><br>Words: win always, brink so, verse you, my sleeves, story something",
          "<b>Topic 17</b><br>Words: matrimony god, love lying, holy matrimony, matrimony, knew exactly",
          "<b>Topic 17</b><br>Words: friends are, lied shoulda, die push, edge, like controlla",
          "<b>Topic 17</b><br>Words: enough every, keep fighting, low remind, never measure, like sculpture"
         ],
         "marker": {
          "color": "#F0E442"
         },
         "mode": "lines",
         "name": "17_would lie_said loved_can disguise_lia...",
         "type": "scatter",
         "x": [
          1958.937,
          1962.15,
          1965.3,
          1968.45,
          1974.75,
          1977.9,
          1981.05,
          1984.2,
          1987.35,
          1990.5,
          1993.65,
          1996.8,
          1999.95,
          2003.1,
          2006.25,
          2009.4,
          2012.55,
          2015.7,
          2018.85
         ],
         "y": [
          4,
          2,
          5,
          9,
          5,
          6,
          14,
          21,
          10,
          17,
          13,
          10,
          4,
          14,
          14,
          6,
          1,
          4,
          3
         ]
        },
        {
         "hoverinfo": "text",
         "hovertext": [
          "<b>Topic 18</b><br>Words: cried tear, pity can, through cried, town without, anything survive",
          "<b>Topic 18</b><br>Words: little cause, satisfied until, not ashamed, ll die, cry remember",
          "<b>Topic 18</b><br>Words: 96 tears, long 96, cry 96, lonely cry, cry fades",
          "<b>Topic 18</b><br>Words: smile little, changés ma, ma chanson, in cryin, know darling",
          "<b>Topic 18</b><br>Words: du du, surprise can, direction baby, wind came, tears girl",
          "<b>Topic 18</b><br>Words: too sad, house down, never cry, song almost, frown ah",
          "<b>Topic 18</b><br>Words: crying crying, more tears, tears no, like child, sorrow is",
          "<b>Topic 18</b><br>Words: doves cry, laura where, ve shared, dreaming need, cry darling",
          "<b>Topic 18</b><br>Words: been leaving, feels for, wasted all, cry someday, the doubts",
          "<b>Topic 18</b><br>Words: lyin wasted, girl close, crying all, tragic it, like dry",
          "<b>Topic 18</b><br>Words: over til, ain over, over so, cried so, pain inside",
          "<b>Topic 18</b><br>Words: gon cry, cry not, gon shed, cry tonight, no tears",
          "<b>Topic 18</b><br>Words: me argentina, mad existence, wild days, your distance, sorrow die",
          "<b>Topic 18</b><br>Words: away sat, cried today, while lying, cry fall, all ever107",
          "<b>Topic 18</b><br>Words: lie lie, cry cry, tears hate, seven takes, stratosphere hate",
          "<b>Topic 18</b><br>Words: beautiful lie, dying inside, is dying, lie hate, smile is",
          "<b>Topic 18</b><br>Words: closed cross, nose paint, legs dot, feeling overwhelming, line your",
          "<b>Topic 18</b><br>Words: never learn, life breaking, crying have, here remember, running from",
          "<b>Topic 18</b><br>Words: why run, save your, was prove, hours spent, tears back"
         ],
         "marker": {
          "color": "#D55E00"
         },
         "mode": "lines",
         "name": "18_gon cry_cry not_ain over_tears no",
         "type": "scatter",
         "x": [
          1958.937,
          1962.15,
          1965.3,
          1968.45,
          1971.6,
          1974.75,
          1977.9,
          1981.05,
          1984.2,
          1987.35,
          1990.5,
          1993.65,
          1996.8,
          1999.95,
          2006.25,
          2009.4,
          2012.55,
          2015.7,
          2018.85
         ],
         "y": [
          15,
          11,
          11,
          9,
          4,
          6,
          13,
          6,
          10,
          15,
          9,
          16,
          8,
          3,
          6,
          2,
          2,
          1,
          12
         ]
        },
        {
         "hoverinfo": "text",
         "hovertext": [
          "<b>Topic 19</b><br>Words: theodore you, set theodore, hot dog, bet, also like",
          "<b>Topic 19</b><br>Words: star daydream, car caviar, football team, new car, think ll",
          "<b>Topic 19</b><br>Words: jules we, jules nods, yes jules, fuckin dead, one show",
          "<b>Topic 19</b><br>Words: miramax studios, concession stand, casey affleck, buying soda, jules at",
          "<b>Topic 19</b><br>Words: find warmer, nikita hey, heart captive, wall ten, nikita",
          "<b>Topic 19</b><br>Words: lorde chandelier, pilots viva, lorde team, also haley, jules also"
         ],
         "marker": {
          "color": "#0072B2"
         },
         "mode": "lines",
         "name": "19_jules don_jules we_it jules_jules nod...",
         "type": "scatter",
         "x": [
          1958.937,
          1971.6,
          1974.75,
          1977.9,
          1984.2,
          1996.8
         ],
         "y": [
          1,
          1,
          149,
          3,
          1,
          1
         ]
        }
       ],
       "layout": {
        "height": 450,
        "hoverlabel": {
         "bgcolor": "white",
         "font": {
          "family": "Rockwell",
          "size": 16
         }
        },
        "legend": {
         "title": {
          "text": "<b>Global Topic Representation"
         }
        },
        "template": {
         "data": {
          "bar": [
           {
            "error_x": {
             "color": "rgb(36,36,36)"
            },
            "error_y": {
             "color": "rgb(36,36,36)"
            },
            "marker": {
             "line": {
              "color": "white",
              "width": 0.5
             },
             "pattern": {
              "fillmode": "overlay",
              "size": 10,
              "solidity": 0.2
             }
            },
            "type": "bar"
           }
          ],
          "barpolar": [
           {
            "marker": {
             "line": {
              "color": "white",
              "width": 0.5
             },
             "pattern": {
              "fillmode": "overlay",
              "size": 10,
              "solidity": 0.2
             }
            },
            "type": "barpolar"
           }
          ],
          "carpet": [
           {
            "aaxis": {
             "endlinecolor": "rgb(36,36,36)",
             "gridcolor": "white",
             "linecolor": "white",
             "minorgridcolor": "white",
             "startlinecolor": "rgb(36,36,36)"
            },
            "baxis": {
             "endlinecolor": "rgb(36,36,36)",
             "gridcolor": "white",
             "linecolor": "white",
             "minorgridcolor": "white",
             "startlinecolor": "rgb(36,36,36)"
            },
            "type": "carpet"
           }
          ],
          "choropleth": [
           {
            "colorbar": {
             "outlinewidth": 1,
             "tickcolor": "rgb(36,36,36)",
             "ticks": "outside"
            },
            "type": "choropleth"
           }
          ],
          "contour": [
           {
            "colorbar": {
             "outlinewidth": 1,
             "tickcolor": "rgb(36,36,36)",
             "ticks": "outside"
            },
            "colorscale": [
             [
              0,
              "#440154"
             ],
             [
              0.1111111111111111,
              "#482878"
             ],
             [
              0.2222222222222222,
              "#3e4989"
             ],
             [
              0.3333333333333333,
              "#31688e"
             ],
             [
              0.4444444444444444,
              "#26828e"
             ],
             [
              0.5555555555555556,
              "#1f9e89"
             ],
             [
              0.6666666666666666,
              "#35b779"
             ],
             [
              0.7777777777777778,
              "#6ece58"
             ],
             [
              0.8888888888888888,
              "#b5de2b"
             ],
             [
              1,
              "#fde725"
             ]
            ],
            "type": "contour"
           }
          ],
          "contourcarpet": [
           {
            "colorbar": {
             "outlinewidth": 1,
             "tickcolor": "rgb(36,36,36)",
             "ticks": "outside"
            },
            "type": "contourcarpet"
           }
          ],
          "heatmap": [
           {
            "colorbar": {
             "outlinewidth": 1,
             "tickcolor": "rgb(36,36,36)",
             "ticks": "outside"
            },
            "colorscale": [
             [
              0,
              "#440154"
             ],
             [
              0.1111111111111111,
              "#482878"
             ],
             [
              0.2222222222222222,
              "#3e4989"
             ],
             [
              0.3333333333333333,
              "#31688e"
             ],
             [
              0.4444444444444444,
              "#26828e"
             ],
             [
              0.5555555555555556,
              "#1f9e89"
             ],
             [
              0.6666666666666666,
              "#35b779"
             ],
             [
              0.7777777777777778,
              "#6ece58"
             ],
             [
              0.8888888888888888,
              "#b5de2b"
             ],
             [
              1,
              "#fde725"
             ]
            ],
            "type": "heatmap"
           }
          ],
          "heatmapgl": [
           {
            "colorbar": {
             "outlinewidth": 1,
             "tickcolor": "rgb(36,36,36)",
             "ticks": "outside"
            },
            "colorscale": [
             [
              0,
              "#440154"
             ],
             [
              0.1111111111111111,
              "#482878"
             ],
             [
              0.2222222222222222,
              "#3e4989"
             ],
             [
              0.3333333333333333,
              "#31688e"
             ],
             [
              0.4444444444444444,
              "#26828e"
             ],
             [
              0.5555555555555556,
              "#1f9e89"
             ],
             [
              0.6666666666666666,
              "#35b779"
             ],
             [
              0.7777777777777778,
              "#6ece58"
             ],
             [
              0.8888888888888888,
              "#b5de2b"
             ],
             [
              1,
              "#fde725"
             ]
            ],
            "type": "heatmapgl"
           }
          ],
          "histogram": [
           {
            "marker": {
             "line": {
              "color": "white",
              "width": 0.6
             }
            },
            "type": "histogram"
           }
          ],
          "histogram2d": [
           {
            "colorbar": {
             "outlinewidth": 1,
             "tickcolor": "rgb(36,36,36)",
             "ticks": "outside"
            },
            "colorscale": [
             [
              0,
              "#440154"
             ],
             [
              0.1111111111111111,
              "#482878"
             ],
             [
              0.2222222222222222,
              "#3e4989"
             ],
             [
              0.3333333333333333,
              "#31688e"
             ],
             [
              0.4444444444444444,
              "#26828e"
             ],
             [
              0.5555555555555556,
              "#1f9e89"
             ],
             [
              0.6666666666666666,
              "#35b779"
             ],
             [
              0.7777777777777778,
              "#6ece58"
             ],
             [
              0.8888888888888888,
              "#b5de2b"
             ],
             [
              1,
              "#fde725"
             ]
            ],
            "type": "histogram2d"
           }
          ],
          "histogram2dcontour": [
           {
            "colorbar": {
             "outlinewidth": 1,
             "tickcolor": "rgb(36,36,36)",
             "ticks": "outside"
            },
            "colorscale": [
             [
              0,
              "#440154"
             ],
             [
              0.1111111111111111,
              "#482878"
             ],
             [
              0.2222222222222222,
              "#3e4989"
             ],
             [
              0.3333333333333333,
              "#31688e"
             ],
             [
              0.4444444444444444,
              "#26828e"
             ],
             [
              0.5555555555555556,
              "#1f9e89"
             ],
             [
              0.6666666666666666,
              "#35b779"
             ],
             [
              0.7777777777777778,
              "#6ece58"
             ],
             [
              0.8888888888888888,
              "#b5de2b"
             ],
             [
              1,
              "#fde725"
             ]
            ],
            "type": "histogram2dcontour"
           }
          ],
          "mesh3d": [
           {
            "colorbar": {
             "outlinewidth": 1,
             "tickcolor": "rgb(36,36,36)",
             "ticks": "outside"
            },
            "type": "mesh3d"
           }
          ],
          "parcoords": [
           {
            "line": {
             "colorbar": {
              "outlinewidth": 1,
              "tickcolor": "rgb(36,36,36)",
              "ticks": "outside"
             }
            },
            "type": "parcoords"
           }
          ],
          "pie": [
           {
            "automargin": true,
            "type": "pie"
           }
          ],
          "scatter": [
           {
            "fillpattern": {
             "fillmode": "overlay",
             "size": 10,
             "solidity": 0.2
            },
            "type": "scatter"
           }
          ],
          "scatter3d": [
           {
            "line": {
             "colorbar": {
              "outlinewidth": 1,
              "tickcolor": "rgb(36,36,36)",
              "ticks": "outside"
             }
            },
            "marker": {
             "colorbar": {
              "outlinewidth": 1,
              "tickcolor": "rgb(36,36,36)",
              "ticks": "outside"
             }
            },
            "type": "scatter3d"
           }
          ],
          "scattercarpet": [
           {
            "marker": {
             "colorbar": {
              "outlinewidth": 1,
              "tickcolor": "rgb(36,36,36)",
              "ticks": "outside"
             }
            },
            "type": "scattercarpet"
           }
          ],
          "scattergeo": [
           {
            "marker": {
             "colorbar": {
              "outlinewidth": 1,
              "tickcolor": "rgb(36,36,36)",
              "ticks": "outside"
             }
            },
            "type": "scattergeo"
           }
          ],
          "scattergl": [
           {
            "marker": {
             "colorbar": {
              "outlinewidth": 1,
              "tickcolor": "rgb(36,36,36)",
              "ticks": "outside"
             }
            },
            "type": "scattergl"
           }
          ],
          "scattermapbox": [
           {
            "marker": {
             "colorbar": {
              "outlinewidth": 1,
              "tickcolor": "rgb(36,36,36)",
              "ticks": "outside"
             }
            },
            "type": "scattermapbox"
           }
          ],
          "scatterpolar": [
           {
            "marker": {
             "colorbar": {
              "outlinewidth": 1,
              "tickcolor": "rgb(36,36,36)",
              "ticks": "outside"
             }
            },
            "type": "scatterpolar"
           }
          ],
          "scatterpolargl": [
           {
            "marker": {
             "colorbar": {
              "outlinewidth": 1,
              "tickcolor": "rgb(36,36,36)",
              "ticks": "outside"
             }
            },
            "type": "scatterpolargl"
           }
          ],
          "scatterternary": [
           {
            "marker": {
             "colorbar": {
              "outlinewidth": 1,
              "tickcolor": "rgb(36,36,36)",
              "ticks": "outside"
             }
            },
            "type": "scatterternary"
           }
          ],
          "surface": [
           {
            "colorbar": {
             "outlinewidth": 1,
             "tickcolor": "rgb(36,36,36)",
             "ticks": "outside"
            },
            "colorscale": [
             [
              0,
              "#440154"
             ],
             [
              0.1111111111111111,
              "#482878"
             ],
             [
              0.2222222222222222,
              "#3e4989"
             ],
             [
              0.3333333333333333,
              "#31688e"
             ],
             [
              0.4444444444444444,
              "#26828e"
             ],
             [
              0.5555555555555556,
              "#1f9e89"
             ],
             [
              0.6666666666666666,
              "#35b779"
             ],
             [
              0.7777777777777778,
              "#6ece58"
             ],
             [
              0.8888888888888888,
              "#b5de2b"
             ],
             [
              1,
              "#fde725"
             ]
            ],
            "type": "surface"
           }
          ],
          "table": [
           {
            "cells": {
             "fill": {
              "color": "rgb(237,237,237)"
             },
             "line": {
              "color": "white"
             }
            },
            "header": {
             "fill": {
              "color": "rgb(217,217,217)"
             },
             "line": {
              "color": "white"
             }
            },
            "type": "table"
           }
          ]
         },
         "layout": {
          "annotationdefaults": {
           "arrowhead": 0,
           "arrowwidth": 1
          },
          "autotypenumbers": "strict",
          "coloraxis": {
           "colorbar": {
            "outlinewidth": 1,
            "tickcolor": "rgb(36,36,36)",
            "ticks": "outside"
           }
          },
          "colorscale": {
           "diverging": [
            [
             0,
             "rgb(103,0,31)"
            ],
            [
             0.1,
             "rgb(178,24,43)"
            ],
            [
             0.2,
             "rgb(214,96,77)"
            ],
            [
             0.3,
             "rgb(244,165,130)"
            ],
            [
             0.4,
             "rgb(253,219,199)"
            ],
            [
             0.5,
             "rgb(247,247,247)"
            ],
            [
             0.6,
             "rgb(209,229,240)"
            ],
            [
             0.7,
             "rgb(146,197,222)"
            ],
            [
             0.8,
             "rgb(67,147,195)"
            ],
            [
             0.9,
             "rgb(33,102,172)"
            ],
            [
             1,
             "rgb(5,48,97)"
            ]
           ],
           "sequential": [
            [
             0,
             "#440154"
            ],
            [
             0.1111111111111111,
             "#482878"
            ],
            [
             0.2222222222222222,
             "#3e4989"
            ],
            [
             0.3333333333333333,
             "#31688e"
            ],
            [
             0.4444444444444444,
             "#26828e"
            ],
            [
             0.5555555555555556,
             "#1f9e89"
            ],
            [
             0.6666666666666666,
             "#35b779"
            ],
            [
             0.7777777777777778,
             "#6ece58"
            ],
            [
             0.8888888888888888,
             "#b5de2b"
            ],
            [
             1,
             "#fde725"
            ]
           ],
           "sequentialminus": [
            [
             0,
             "#440154"
            ],
            [
             0.1111111111111111,
             "#482878"
            ],
            [
             0.2222222222222222,
             "#3e4989"
            ],
            [
             0.3333333333333333,
             "#31688e"
            ],
            [
             0.4444444444444444,
             "#26828e"
            ],
            [
             0.5555555555555556,
             "#1f9e89"
            ],
            [
             0.6666666666666666,
             "#35b779"
            ],
            [
             0.7777777777777778,
             "#6ece58"
            ],
            [
             0.8888888888888888,
             "#b5de2b"
            ],
            [
             1,
             "#fde725"
            ]
           ]
          },
          "colorway": [
           "#1F77B4",
           "#FF7F0E",
           "#2CA02C",
           "#D62728",
           "#9467BD",
           "#8C564B",
           "#E377C2",
           "#7F7F7F",
           "#BCBD22",
           "#17BECF"
          ],
          "font": {
           "color": "rgb(36,36,36)"
          },
          "geo": {
           "bgcolor": "white",
           "lakecolor": "white",
           "landcolor": "white",
           "showlakes": true,
           "showland": true,
           "subunitcolor": "white"
          },
          "hoverlabel": {
           "align": "left"
          },
          "hovermode": "closest",
          "mapbox": {
           "style": "light"
          },
          "paper_bgcolor": "white",
          "plot_bgcolor": "white",
          "polar": {
           "angularaxis": {
            "gridcolor": "rgb(232,232,232)",
            "linecolor": "rgb(36,36,36)",
            "showgrid": false,
            "showline": true,
            "ticks": "outside"
           },
           "bgcolor": "white",
           "radialaxis": {
            "gridcolor": "rgb(232,232,232)",
            "linecolor": "rgb(36,36,36)",
            "showgrid": false,
            "showline": true,
            "ticks": "outside"
           }
          },
          "scene": {
           "xaxis": {
            "backgroundcolor": "white",
            "gridcolor": "rgb(232,232,232)",
            "gridwidth": 2,
            "linecolor": "rgb(36,36,36)",
            "showbackground": true,
            "showgrid": false,
            "showline": true,
            "ticks": "outside",
            "zeroline": false,
            "zerolinecolor": "rgb(36,36,36)"
           },
           "yaxis": {
            "backgroundcolor": "white",
            "gridcolor": "rgb(232,232,232)",
            "gridwidth": 2,
            "linecolor": "rgb(36,36,36)",
            "showbackground": true,
            "showgrid": false,
            "showline": true,
            "ticks": "outside",
            "zeroline": false,
            "zerolinecolor": "rgb(36,36,36)"
           },
           "zaxis": {
            "backgroundcolor": "white",
            "gridcolor": "rgb(232,232,232)",
            "gridwidth": 2,
            "linecolor": "rgb(36,36,36)",
            "showbackground": true,
            "showgrid": false,
            "showline": true,
            "ticks": "outside",
            "zeroline": false,
            "zerolinecolor": "rgb(36,36,36)"
           }
          },
          "shapedefaults": {
           "fillcolor": "black",
           "line": {
            "width": 0
           },
           "opacity": 0.3
          },
          "ternary": {
           "aaxis": {
            "gridcolor": "rgb(232,232,232)",
            "linecolor": "rgb(36,36,36)",
            "showgrid": false,
            "showline": true,
            "ticks": "outside"
           },
           "baxis": {
            "gridcolor": "rgb(232,232,232)",
            "linecolor": "rgb(36,36,36)",
            "showgrid": false,
            "showline": true,
            "ticks": "outside"
           },
           "bgcolor": "white",
           "caxis": {
            "gridcolor": "rgb(232,232,232)",
            "linecolor": "rgb(36,36,36)",
            "showgrid": false,
            "showline": true,
            "ticks": "outside"
           }
          },
          "title": {
           "x": 0.05
          },
          "xaxis": {
           "automargin": true,
           "gridcolor": "rgb(232,232,232)",
           "linecolor": "rgb(36,36,36)",
           "showgrid": false,
           "showline": true,
           "ticks": "outside",
           "title": {
            "standoff": 15
           },
           "zeroline": false,
           "zerolinecolor": "rgb(36,36,36)"
          },
          "yaxis": {
           "automargin": true,
           "gridcolor": "rgb(232,232,232)",
           "linecolor": "rgb(36,36,36)",
           "showgrid": false,
           "showline": true,
           "ticks": "outside",
           "title": {
            "standoff": 15
           },
           "zeroline": false,
           "zerolinecolor": "rgb(36,36,36)"
          }
         }
        },
        "title": {
         "font": {
          "color": "Black",
          "size": 22
         },
         "text": "<b>Topics over Time</b>",
         "x": 0.4,
         "xanchor": "center",
         "y": 0.95,
         "yanchor": "top"
        },
        "width": 1250,
        "xaxis": {
         "showgrid": true
        },
        "yaxis": {
         "showgrid": true,
         "title": {
          "text": "Frequency"
         }
        }
       }
      }
     },
     "metadata": {},
     "output_type": "display_data"
    }
   ],
   "source": [
    "topic_model.visualize_topics_over_time(topics_over_time, top_n_topics=20)"
   ]
  },
  {
   "cell_type": "code",
   "execution_count": 52,
   "metadata": {},
   "outputs": [
    {
     "name": "stderr",
     "output_type": "stream",
     "text": [
      "c:\\Users\\xuzhi\\.conda\\envs\\bertopicmodel\\Lib\\site-packages\\scipy\\sparse\\_index.py:146: SparseEfficiencyWarning:\n",
      "\n",
      "Changing the sparsity structure of a csr_matrix is expensive. lil_matrix is more efficient.\n",
      "\n"
     ]
    }
   ],
   "source": [
    "topic_model.save(\"BERTmodel\")"
   ]
  }
 ],
 "metadata": {
  "kernelspec": {
   "display_name": "bertopicmodel",
   "language": "python",
   "name": "python3"
  },
  "language_info": {
   "codemirror_mode": {
    "name": "ipython",
    "version": 3
   },
   "file_extension": ".py",
   "mimetype": "text/x-python",
   "name": "python",
   "nbconvert_exporter": "python",
   "pygments_lexer": "ipython3",
   "version": "3.11.3"
  },
  "orig_nbformat": 4
 },
 "nbformat": 4,
 "nbformat_minor": 2
}
