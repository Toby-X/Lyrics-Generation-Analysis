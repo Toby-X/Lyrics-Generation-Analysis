{
 "cells": [
  {
   "cell_type": "code",
   "execution_count": 2,
   "metadata": {},
   "outputs": [],
   "source": [
    "import numpy as np\n",
    "import pandas as pd\n",
    "from gensim.utils import simple_preprocess\n",
    "from gensim.parsing.preprocessing import remove_stopwords\n",
    "from gensim import corpora\n",
    "from collections import defaultdict\n",
    "import pprint\n",
    "import re\n",
    "from gensim import models\n",
    "from scipy.sparse import lil_matrix, hstack, csr_matrix, vstack\n",
    "import gensim.downloader as api\n",
    "from wordcloud import WordCloud\n",
    "import matplotlib.pyplot as plt"
   ]
  },
  {
   "attachments": {},
   "cell_type": "markdown",
   "metadata": {},
   "source": [
    "# Data Preprocessing\n",
    "In this section, we preprocess the data and transform raw text data to matrix form. Then, all data is divided into training set and test set. After that, a dictionary is built upon training set."
   ]
  },
  {
   "cell_type": "code",
   "execution_count": 3,
   "metadata": {},
   "outputs": [
    {
     "name": "stderr",
     "output_type": "stream",
     "text": [
      "C:\\Users\\xuzhi\\AppData\\Local\\Temp\\ipykernel_7796\\3642662710.py:47: FutureWarning: Calling int on a single element Series is deprecated and will raise a TypeError in the future. Use int(ser.iloc[0]) instead\n",
      "  df.loc[i,\"active_years\"] = int(ay_tmp)\n"
     ]
    }
   ],
   "source": [
    "def specific_preprocess(doc):\n",
    "    return simple_preprocess(doc,min_len=2)\n",
    "\n",
    "def remove_specific_words(s):\n",
    "    s = re.sub(r\"\\bLyrics\",\" \",s)\n",
    "    s = re.sub(r\"\\[.+\\]\",\" \",s)\n",
    "    s = re.sub(r\"\\b\\d+\\b Contributors\",\" \",s)\n",
    "    s = re.sub(r\"Embed\",\" \",s)\n",
    "    s = re.sub(r\"You might also like\",\" \",s)\n",
    "    return s\n",
    "\n",
    "def count_space(s):\n",
    "    return s.count(' ')\n",
    "\n",
    "def remove_short_words(s):\n",
    "    s = re.sub(r\"\\b..\\b\",\" \",s)\n",
    "    s = re.sub(r\"\\b . \\b\",\" \",s)\n",
    "    pronoun = [r\"\\b you\\b\",r\"\\b yours\\b\",r\"\\b him \\b\",r\"\\b his\\b\", r\"\\b she \\b\", r\"\\b her \\b\", r\"\\b hers\\b\",\n",
    "               r\"\\b they \\b\", r\"\\b them \\b\", r\"\\b their \\b\", r\"\\b theirs \\b\",r\"\\b You\\b\",r\"\\b Yours\\b\",\n",
    "               r\"\\b Him \\b\",r\"\\b His\\b\", r\"\\b She \\b\", r\"\\b Her \\b\", r\"\\b Hers\\b\",\n",
    "               r\"\\b They \\b\", r\"\\b Them \\b\", r\"\\b Their \\b\", r\"\\b Theirs \\b\"]\n",
    "    conj = [r\"\\b and \\b\", r\"\\b then \\b\",r\"\\b for\\b\", r\"\\b from\\b\", r\"\\b with\\b\",\n",
    "            r\"\\b about\\b\",r\"\\b And \\b\", r\"\\b Then \\b\",r\"\\b For\\b\", r\"\\b From\\b\", r\"\\b With\\b\",\n",
    "            r\"\\b About\\b\"]\n",
    "    for word in pronoun:\n",
    "        s = re.sub(word,\" \",s)\n",
    "    for word in conj:\n",
    "        s = re.sub(word,\" \",s)\n",
    "    return s\n",
    "\n",
    "def count_lines(s):\n",
    "    res = len(re.findall(r\"\\r\\n\",s))\n",
    "    return res\n",
    "\n",
    "def count_paras(s):\n",
    "    res = len(re.findall(r\"\\r\\n\\r\\n\",s))\n",
    "    return res\n",
    "\n",
    "df = pd.read_csv(\"data/billboard_lyrics_genres.csv\")\n",
    "df_activeyear = pd.read_csv(\"data/first_active_years.csv\")\n",
    "df_activeyear = df_activeyear.drop_duplicates(subset=[\"band_singer\",\"title\",\"year\"],ignore_index=True)\n",
    "df[\"active_years\"] = 0\n",
    "\n",
    "for i in range(df.shape[0]):\n",
    "    ay_tmp = df_activeyear.loc[(df_activeyear[\"band_singer\"]==df.loc[i,\"band_singer\"])&(df_activeyear[\"title\"]==df.loc[i,\"title\"])&(df_activeyear[\"year\"]==df.loc[i,\"year\"])].active_years\n",
    "    if not ay_tmp.empty:\n",
    "        df.loc[i,\"active_years\"] = int(ay_tmp)\n",
    "\n",
    "df_tmp = df.loc[df[\"active_years\"]!=0].reset_index(drop=True)\n",
    "\n",
    "df[\"numword\"] = df[\"lyrics\"].map(count_space)\n",
    "df[\"num_lines\"] = df[\"lyrics\"].map(count_lines)+1\n",
    "df[\"num_paras\"] = df[\"lyrics\"].map(count_paras)+1\n",
    "df[\"av_word_line\"] = df[\"numword\"]/df[\"num_lines\"]\n",
    "df[\"av_word_paras\"] = df[\"numword\"]/df[\"num_paras\"]\n",
    "df[\"lyrics\"] = df[\"lyrics\"].map(remove_specific_words)\n",
    "df[\"lyrics\"] = df[\"lyrics\"].map(remove_stopwords)\n",
    "# df[\"lyrics\"] = df[\"lyrics\"].map(remove_short_words)\n",
    "# df.to_csv(\"data/df_cluster.csv\")\n",
    "df[\"lyrics\"] = df[\"lyrics\"].map(specific_preprocess)"
   ]
  },
  {
   "cell_type": "code",
   "execution_count": 25,
   "metadata": {},
   "outputs": [],
   "source": [
    "def find_unique_word(L):\n",
    "    unique_words = []\n",
    "    for word in L:\n",
    "        if word not in unique_words:\n",
    "            unique_words.append(word)\n",
    "    return len(unique_words)\n",
    "\n",
    "def find_max_len(L):\n",
    "    max_len = list(map(len,L))\n",
    "    return max(max_len)\n",
    "\n",
    "df[\"unique_words\"] = df[\"lyrics\"].map(find_unique_word)\n",
    "df[\"max_len\"] = df[\"lyrics\"].map(find_max_len)"
   ]
  },
  {
   "attachments": {},
   "cell_type": "markdown",
   "metadata": {},
   "source": [
    "Delete the songs that are not English"
   ]
  },
  {
   "cell_type": "code",
   "execution_count": 26,
   "metadata": {},
   "outputs": [],
   "source": [
    "def isEnglish(w):\n",
    "    return w.encode(\"utf-8\").isalpha()\n",
    "\n",
    "def isListEnglish(L):\n",
    "    return all(map(isEnglish,L))\n",
    "\n",
    "df[\"isEnglish\"] = df[\"lyrics\"].map(isListEnglish)\n",
    "df = df.loc[df[\"isEnglish\"],:]"
   ]
  },
  {
   "attachments": {},
   "cell_type": "markdown",
   "metadata": {},
   "source": [
    "Perform the same procedure to genre"
   ]
  },
  {
   "cell_type": "code",
   "execution_count": 27,
   "metadata": {},
   "outputs": [],
   "source": [
    "def remove_pun(s):\n",
    "    s = re.sub(r\"\\[\\'\",\" \",s)\n",
    "    s = re.sub(r\"\\'\\]\",\" \",s)\n",
    "    s = re.sub(r\"\\'\",\" \",s)\n",
    "    s = re.sub(r\"\\[\\]\",\" \",s)\n",
    "    s = re.sub(r\"\\,\",\" \",s)\n",
    "    s = s.split()\n",
    "    s = [token.lower() for token in s]\n",
    "    return s\n",
    "\n",
    "\n",
    "df[\"genre\"] = df[\"genre\"].map(remove_pun)"
   ]
  },
  {
   "cell_type": "code",
   "execution_count": 28,
   "metadata": {},
   "outputs": [
    {
     "name": "stdout",
     "output_type": "stream",
     "text": [
      "{'alternative': 145,\n",
      " 'and': 157,\n",
      " 'country': 416,\n",
      " 'dance-pop': 155,\n",
      " 'disco': 148,\n",
      " 'folk': 141,\n",
      " 'funk': 170,\n",
      " 'hard': 102,\n",
      " 'hip': 435,\n",
      " 'hop': 376,\n",
      " 'new': 168,\n",
      " 'pop': 1383,\n",
      " 'r&b': 665,\n",
      " 'rap': 116,\n",
      " 'rock': 1607,\n",
      " 'roll': 111,\n",
      " 'soft': 322,\n",
      " 'soul': 476,\n",
      " 'wave': 109}\n"
     ]
    }
   ],
   "source": [
    "freq_gen = defaultdict(int)\n",
    "for text in df[\"genre\"]:\n",
    "    for token in text:\n",
    "        freq_gen[token] += 1\n",
    "\n",
    "processed_corpus_gen = [[token for token in text if freq_gen[token]>20] for text in df.loc[:,\"genre\"]]\n",
    "dict_gen = corpora.Dictionary(processed_corpus_gen)\n",
    "freq_wanted = {k: v for k,v in freq_gen.items() if v > 100}\n",
    "pprint.pprint(freq_wanted)"
   ]
  },
  {
   "attachments": {},
   "cell_type": "markdown",
   "metadata": {},
   "source": [
    "In this way, we can sort out the genre we want is alternative, country, dance, disco, folk, funk, hip-hop, new wave, pop, r&b, rap, rock, soul (soft stands for soft rock)"
   ]
  },
  {
   "cell_type": "code",
   "execution_count": 29,
   "metadata": {},
   "outputs": [],
   "source": [
    "gen_des = [\"alternative\",\"country\",\"dance\",\"disco\",\"folk\",\"funk\",\"hip\",\"new\",\"pop\",\"r&b\",\"rap\",\"rock\",\"soul\"]\n",
    "gen_des = sorted(gen_des)\n",
    "\n",
    "# Compute number of columns from maximum word ID in the training data\n",
    "num_cols = len(gen_des)\n",
    "dat_gen = lil_matrix((len(df), num_cols), dtype=np.int64)\n",
    "\n",
    "# Fill in values using apply() and enumerate()\n",
    "def set_row_func(i, row):\n",
    "    for word in row[\"genre\"]:\n",
    "        for k in range(len(gen_des)):\n",
    "            if re.search(gen_des[k],word):\n",
    "                dat_gen[i,k] = 1\n",
    "df[df[\"genre\"].map(len) > 0].reset_index(drop=True).reset_index().apply(lambda row: set_row_func(row[\"index\"], row), axis=1)\n",
    "\n",
    "# Convert to pandas DataFrame\n",
    "dat_gen = pd.DataFrame.sparse.from_spmatrix(dat_gen)"
   ]
  },
  {
   "attachments": {},
   "cell_type": "markdown",
   "metadata": {},
   "source": [
    "Then, we should tag the data for classification."
   ]
  },
  {
   "cell_type": "code",
   "execution_count": 30,
   "metadata": {},
   "outputs": [],
   "source": [
    "df[\"label\"] = np.zeros(df.shape[0])\n",
    "\n",
    "bins = [1970,1980,1990,2000,2010,np.inf]\n",
    "\n",
    "labels = [0,1,2,3,4,5]\n",
    "\n",
    "df[\"label\"] = np.where(df[\"year\"] < bins[0], labels[0],\n",
    "                               np.where(df[\"year\"] < bins[1], labels[1],\n",
    "                                        np.where(df[\"year\"] < bins[2], labels[2],\n",
    "                                                 np.where(df[\"year\"] < bins[3], labels[3],\n",
    "                                                          np.where(df[\"year\"] < bins[4], labels[4], labels[5])))))"
   ]
  },
  {
   "attachments": {},
   "cell_type": "markdown",
   "metadata": {},
   "source": [
    "Then, data is split to training set and test set."
   ]
  },
  {
   "cell_type": "code",
   "execution_count": 31,
   "metadata": {},
   "outputs": [],
   "source": [
    "np.random.seed(515)\n",
    "idx = np.repeat(range(10),len(df.iloc[:,0])//10+1)\n",
    "df[\"idx\"] = np.random.choice(idx[range(len(df.iloc[:,0]))],size=len(df.iloc[:,0]))\n",
    "df_train = df.loc[df[\"idx\"]!=0,:]\n",
    "df_test = df.loc[df[\"idx\"]==0,:]"
   ]
  },
  {
   "cell_type": "code",
   "execution_count": 32,
   "metadata": {},
   "outputs": [
    {
     "name": "stdout",
     "output_type": "stream",
     "text": [
      "[844, 778, 792, 731, 725, 789]\n",
      "[81, 85, 69, 78, 68, 85]\n"
     ]
    }
   ],
   "source": [
    "num_train_dec = []\n",
    "num_test_dec = []\n",
    "for i in range(6):\n",
    "    num_train_dec.append(np.sum(df_train[\"label\"]==i))\n",
    "    num_test_dec.append(np.sum(df_test[\"label\"]==i))\n",
    "\n",
    "print(num_train_dec)\n",
    "print(num_test_dec)"
   ]
  },
  {
   "attachments": {},
   "cell_type": "markdown",
   "metadata": {},
   "source": [
    "Build a dictionary based on training set."
   ]
  },
  {
   "cell_type": "code",
   "execution_count": 33,
   "metadata": {},
   "outputs": [
    {
     "name": "stderr",
     "output_type": "stream",
     "text": [
      "C:\\Users\\xuzhi\\AppData\\Local\\Temp\\ipykernel_392\\4121515207.py:8: SettingWithCopyWarning: \n",
      "A value is trying to be set on a copy of a slice from a DataFrame.\n",
      "Try using .loc[row_indexer,col_indexer] = value instead\n",
      "\n",
      "See the caveats in the documentation: https://pandas.pydata.org/pandas-docs/stable/user_guide/indexing.html#returning-a-view-versus-a-copy\n",
      "  df_train[\"freq_count\"] = [dictionary.doc2bow(text) for text in processed_corpus]\n"
     ]
    }
   ],
   "source": [
    "freq = defaultdict(int)\n",
    "for text in df_train[\"lyrics\"]:\n",
    "    for token in text:\n",
    "        freq[token] += 1\n",
    "\n",
    "processed_corpus = [[token for token in text if freq[token]>20] for text in df_train.loc[:,\"lyrics\"]]\n",
    "dictionary = corpora.Dictionary(processed_corpus)\n",
    "df_train[\"freq_count\"] = [dictionary.doc2bow(text) for text in processed_corpus]"
   ]
  },
  {
   "cell_type": "code",
   "execution_count": 34,
   "metadata": {},
   "outputs": [],
   "source": [
    "# Compute number of columns from maximum word ID in the training data\n",
    "num_cols = max(dictionary.keys())+1\n",
    "dat_train = lil_matrix((len(df_train), num_cols), dtype=np.int64)\n",
    "\n",
    "# Fill in values using apply() and enumerate()\n",
    "def set_row_func(i, row):\n",
    "    indices = [count for count, word_id in row[\"freq_count\"]]\n",
    "    values = [value for _, value in row[\"freq_count\"]]\n",
    "    dat_train[i, indices] = values\n",
    "df_train[df_train[\"freq_count\"].map(len) > 0].reset_index(drop=True).reset_index().apply(lambda row: set_row_func(row[\"index\"], row), axis=1)\n",
    "\n",
    "# Convert to pandas DataFrame\n",
    "dat_train = pd.DataFrame.sparse.from_spmatrix(dat_train)"
   ]
  },
  {
   "attachments": {},
   "cell_type": "markdown",
   "metadata": {},
   "source": [
    "Then, perform the same procedure to test set with the dictionary."
   ]
  },
  {
   "cell_type": "code",
   "execution_count": 35,
   "metadata": {},
   "outputs": [
    {
     "name": "stderr",
     "output_type": "stream",
     "text": [
      "C:\\Users\\xuzhi\\AppData\\Local\\Temp\\ipykernel_392\\2217317512.py:3: SettingWithCopyWarning: \n",
      "A value is trying to be set on a copy of a slice from a DataFrame.\n",
      "Try using .loc[row_indexer,col_indexer] = value instead\n",
      "\n",
      "See the caveats in the documentation: https://pandas.pydata.org/pandas-docs/stable/user_guide/indexing.html#returning-a-view-versus-a-copy\n",
      "  df_test[\"freq_count\"] = [dictionary.doc2bow(text) for text in processed_corpus]\n"
     ]
    }
   ],
   "source": [
    "df_test = df.loc[df[\"idx\"]==0,:]\n",
    "processed_corpus = [[token for token in text if freq[token]>20] for text in df_test.loc[:,\"lyrics\"]]\n",
    "df_test[\"freq_count\"] = [dictionary.doc2bow(text) for text in processed_corpus]\n",
    "\n",
    "# Compute number of columns from maximum word ID in the training data\n",
    "num_cols = max(dictionary.keys())+1\n",
    "dat_test = lil_matrix((len(df_test), num_cols), dtype=np.int64)\n",
    "\n",
    "# Fill in values using apply() and enumerate()\n",
    "def set_row_func(i, row):\n",
    "    indices = [count for count, word_id in row[\"freq_count\"] if count < num_cols]\n",
    "    values = [value for count, value in row[\"freq_count\"] if count < num_cols and value!=0]\n",
    "    dat_test[i, indices] = values\n",
    "df_test[df_test[\"freq_count\"].map(len) > 0].reset_index(drop=True).reset_index().apply(lambda row: set_row_func(row[\"index\"], row), axis=1)\n",
    "\n",
    "# Convert to pandas DataFrame\n",
    "dat_test = pd.DataFrame.sparse.from_spmatrix(dat_test)"
   ]
  },
  {
   "attachments": {},
   "cell_type": "markdown",
   "metadata": {},
   "source": [
    "# Perform TF-IDF"
   ]
  },
  {
   "cell_type": "code",
   "execution_count": 36,
   "metadata": {},
   "outputs": [
    {
     "name": "stderr",
     "output_type": "stream",
     "text": [
      "C:\\Users\\xuzhi\\AppData\\Local\\Temp\\ipykernel_392\\1318062561.py:3: SettingWithCopyWarning: \n",
      "A value is trying to be set on a copy of a slice from a DataFrame.\n",
      "Try using .loc[row_indexer,col_indexer] = value instead\n",
      "\n",
      "See the caveats in the documentation: https://pandas.pydata.org/pandas-docs/stable/user_guide/indexing.html#returning-a-view-versus-a-copy\n",
      "  df_train[\"tfidf\"]=tfidf[df_train[\"lyrics\"].map(dictionary.doc2bow)]\n"
     ]
    }
   ],
   "source": [
    "bow_corpus = list(df_train[\"freq_count\"])\n",
    "tfidf = models.TfidfModel(bow_corpus)\n",
    "df_train[\"tfidf\"]=tfidf[df_train[\"lyrics\"].map(dictionary.doc2bow)]"
   ]
  },
  {
   "cell_type": "code",
   "execution_count": 37,
   "metadata": {},
   "outputs": [],
   "source": [
    "# Compute number of columns from maximum word ID in the training data\n",
    "num_cols = max(dictionary.keys())+1\n",
    "dat_tfidf_train = lil_matrix((len(df_train), num_cols), dtype=np.float64)\n",
    "\n",
    "# Fill in values using apply() and enumerate()\n",
    "def set_row_func(i, row):\n",
    "    indices = [count for count, word_id in row[\"tfidf\"]]\n",
    "    values = [value for _, value in row[\"tfidf\"]]\n",
    "    dat_tfidf_train[i, indices] = values\n",
    "df_train[df_train[\"tfidf\"].map(len) > 0].reset_index(drop=True).reset_index().apply(lambda row: set_row_func(row[\"index\"], row), axis=1)\n",
    "\n",
    "# Convert to pandas DataFrame\n",
    "dat_tfidf_train = pd.DataFrame.sparse.from_spmatrix(dat_tfidf_train)"
   ]
  },
  {
   "cell_type": "code",
   "execution_count": 38,
   "metadata": {},
   "outputs": [
    {
     "name": "stderr",
     "output_type": "stream",
     "text": [
      "C:\\Users\\xuzhi\\AppData\\Local\\Temp\\ipykernel_392\\3654324900.py:1: SettingWithCopyWarning: \n",
      "A value is trying to be set on a copy of a slice from a DataFrame.\n",
      "Try using .loc[row_indexer,col_indexer] = value instead\n",
      "\n",
      "See the caveats in the documentation: https://pandas.pydata.org/pandas-docs/stable/user_guide/indexing.html#returning-a-view-versus-a-copy\n",
      "  df_test[\"tfidf\"]=tfidf[df_test[\"lyrics\"].map(dictionary.doc2bow)]\n"
     ]
    }
   ],
   "source": [
    "df_test[\"tfidf\"]=tfidf[df_test[\"lyrics\"].map(dictionary.doc2bow)]\n",
    "\n",
    "# Compute number of columns from maximum word ID in the training data\n",
    "num_cols = max(dictionary.keys())+1\n",
    "dat_tfidf_test = lil_matrix((len(df_test), num_cols), dtype=np.float64)\n",
    "\n",
    "# Fill in values using apply() and enumerate()\n",
    "def set_row_func(i, row):\n",
    "    indices = [count for count, word_id in row[\"tfidf\"] if count < num_cols]\n",
    "    values = [value for count, value in row[\"tfidf\"] if count < num_cols and value != 0]\n",
    "    dat_tfidf_test[i, indices] = values\n",
    "df_test[df_test[\"tfidf\"].map(len) > 0].reset_index(drop=True).reset_index().apply(lambda row: set_row_func(row[\"index\"], row), axis=1)\n",
    "\n",
    "# Convert to pandas DataFrame\n",
    "dat_tfidf_test = pd.DataFrame.sparse.from_spmatrix(dat_tfidf_test)"
   ]
  },
  {
   "attachments": {},
   "cell_type": "markdown",
   "metadata": {},
   "source": [
    "# Processed Data\n",
    "The data processed are diveded into the blow categories:\n",
    "\n",
    "Original word frequency + genre\n",
    "\n",
    "TF-IDF word frequency + genre\n"
   ]
  },
  {
   "cell_type": "code",
   "execution_count": 39,
   "metadata": {},
   "outputs": [],
   "source": [
    "dat_gen = dat_gen.reset_index()\n",
    "df = df.reset_index(drop=True)\n",
    "dat_gen_train = dat_gen.loc[df[\"idx\"]!=0,:].reset_index(drop=True)\n",
    "dat_gen_test = dat_gen.loc[df[\"idx\"]==0,:].reset_index(drop=True)"
   ]
  },
  {
   "cell_type": "code",
   "execution_count": 40,
   "metadata": {},
   "outputs": [],
   "source": [
    "train_ones = csr_matrix(np.ones(df_train.shape[0])).transpose()\n",
    "test_ones = csr_matrix(np.ones(df_test.shape[0])).transpose()\n",
    "train_label = csr_matrix(df_train.loc[:,\"label\"]).transpose()\n",
    "test_label = csr_matrix(df_test.loc[:,\"label\"]).transpose()\n",
    "train_activeyear = csr_matrix(df_train.loc[:,\"active_years\":\"unique_words\"])\n",
    "test_activeyear = csr_matrix(df_test.loc[:,\"active_years\":\"unique_words\"])\n",
    "\n",
    "gen_train = csr_matrix(dat_gen_train.loc[:,0:])\n",
    "lyrics_train = csr_matrix(dat_train.loc[:,0:])\n",
    "data_train = hstack([train_ones,gen_train, lyrics_train,train_activeyear,train_label])\n",
    "data_train = pd.DataFrame.sparse.from_spmatrix(data_train)\n",
    "\n",
    "gen_test = csr_matrix(dat_gen_test.loc[:,0:])\n",
    "lyrics_test = csr_matrix(dat_test.loc[:,0:])\n",
    "data_test = hstack([test_ones,gen_test, lyrics_test,test_activeyear,test_label])\n",
    "data_test = pd.DataFrame.sparse.from_spmatrix(data_test)\n",
    "\n",
    "\n",
    "lyrics_tfidf_train = csr_matrix(dat_tfidf_train.loc[:,0:])\n",
    "data_tfidf_train = hstack([train_ones,gen_train,lyrics_tfidf_train,train_activeyear,train_label])\n",
    "data_tfidf_train = pd.DataFrame.sparse.from_spmatrix(data_tfidf_train)\n",
    "\n",
    "lyrics_tfidf_test = csr_matrix(dat_tfidf_test.loc[:,0:])\n",
    "data_tfidf_test = hstack([test_ones,gen_test,lyrics_tfidf_test,test_activeyear,test_label])\n",
    "data_tfidf_test = pd.DataFrame.sparse.from_spmatrix(data_tfidf_test)"
   ]
  },
  {
   "cell_type": "code",
   "execution_count": 41,
   "metadata": {},
   "outputs": [],
   "source": [
    "df_tmp = df_train.loc[:,\"active_years\":\"unique_words\"]\n",
    "word_name = [dictionary[i] for i in range(max(dictionary.keys())+1)]\n",
    "word_name = ['intercept']+gen_des + word_name +list(df_tmp.columns)+ ['label']\n",
    "data_tfidf_test.columns = word_name\n",
    "data_tfidf_train.columns = word_name\n",
    "data_train.columns = word_name\n",
    "data_test.columns = word_name"
   ]
  },
  {
   "cell_type": "code",
   "execution_count": 42,
   "metadata": {},
   "outputs": [],
   "source": [
    "# data_tfidf_train.to_csv(\"data/train_tfidf_data.csv\")\n",
    "# data_tfidf_test.to_csv(\"data/test_tfidf_data.csv\")\n",
    "# # data_train = hstack([lyrics_train,train_label])\n",
    "# # data_train = pd.DataFrame.sparse.from_spmatrix(data_train)\n",
    "# # data_test = hstack([lyrics_test,test_label])\n",
    "# # data_test = pd.DataFrame.sparse.from_spmatrix(data_test)\n",
    "# # word_name = [dictionary[i] for i in range(max(dictionary.keys())+1)]\n",
    "# # word_name = word_name+['label']\n",
    "# # data_train.columns = word_name\n",
    "# # data_test.columns = word_name\n",
    "\n",
    "# data_train.to_csv(\"data/train_data_all.csv\")\n",
    "# data_test.to_csv(\"data/test_data_all.csv\")\n",
    "# df_train.to_csv(\"data/train_other.csv\")"
   ]
  },
  {
   "attachments": {},
   "cell_type": "markdown",
   "metadata": {},
   "source": [
    "# Logistic Regression\n",
    "\n",
    "The following section examine different types of 1 on 1 logistic regression."
   ]
  },
  {
   "cell_type": "code",
   "execution_count": null,
   "metadata": {},
   "outputs": [],
   "source": [
    "from sklearn.preprocessing import MaxAbsScaler\n",
    "from sklearn.linear_model import LogisticRegression\n",
    "\n",
    "transformer = MaxAbsScaler()\n",
    "transformer.fit(data_train.iloc[:,:(data_train.shape[1]-1)])\n",
    "data_train_scaled = transformer.transform(data_train.iloc[:,:(data_train.shape[1]-1)])\n",
    "data_test_scaled = transformer.transform(data_test.iloc[:,:(data_train.shape[1]-1)])\n",
    "data_train_scaled = hstack([data_train_scaled,train_label])\n",
    "data_test_scaled = hstack([data_test_scaled,test_label])\n",
    "data_train_scaled = pd.DataFrame.sparse.from_spmatrix(data_train_scaled)\n",
    "data_test_scaled = pd.DataFrame.sparse.from_spmatrix(data_test_scaled)"
   ]
  },
  {
   "cell_type": "code",
   "execution_count": null,
   "metadata": {},
   "outputs": [],
   "source": [
    "# data preparation\n",
    "data_train_scaled_60 = data_train_scaled.loc[data_train_scaled.iloc[:,(data_train_scaled.shape[1]-1)]==0,:]\n",
    "data_train_scaled_70 = data_train_scaled.loc[data_train_scaled.iloc[:,(data_train_scaled.shape[1]-1)]==1,:]\n",
    "data_train_scaled_80 = data_train_scaled.loc[data_train_scaled.iloc[:,(data_train_scaled.shape[1]-1)]==2,:]\n",
    "data_train_scaled_90 = data_train_scaled.loc[data_train_scaled.iloc[:,(data_train_scaled.shape[1]-1)]==3,:]\n",
    "data_train_scaled_00 = data_train_scaled.loc[data_train_scaled.iloc[:,(data_train_scaled.shape[1]-1)]==4,:]\n",
    "data_train_scaled_10 = data_train_scaled.loc[data_train_scaled.iloc[:,(data_train_scaled.shape[1]-1)]==5,:]\n",
    "\n",
    "data_test_scaled_60 = data_test_scaled.loc[data_test_scaled.iloc[:,(data_test_scaled.shape[1]-1)]==0,:]\n",
    "data_test_scaled_70 = data_test_scaled.loc[data_test_scaled.iloc[:,(data_test_scaled.shape[1]-1)]==1,:]\n",
    "data_test_scaled_80 = data_test_scaled.loc[data_test_scaled.iloc[:,(data_test_scaled.shape[1]-1)]==2,:]\n",
    "data_test_scaled_90 = data_test_scaled.loc[data_test_scaled.iloc[:,(data_test_scaled.shape[1]-1)]==3,:]\n",
    "data_test_scaled_00 = data_test_scaled.loc[data_test_scaled.iloc[:,(data_test_scaled.shape[1]-1)]==4,:]\n",
    "data_test_scaled_10 = data_test_scaled.loc[data_test_scaled.iloc[:,(data_test_scaled.shape[1]-1)]==5,:]"
   ]
  },
  {
   "cell_type": "code",
   "execution_count": null,
   "metadata": {},
   "outputs": [
    {
     "name": "stdout",
     "output_type": "stream",
     "text": [
      "0.608433734939759\n"
     ]
    }
   ],
   "source": [
    "# 60s and 70s\n",
    "data_train_scaled_67 = pd.concat([data_train_scaled_60,data_train_scaled_70],axis=0)\n",
    "data_test_scaled_67 = pd.concat([data_test_scaled_60,data_test_scaled_70],axis=0)\n",
    "mr = LogisticRegression(penalty=\"l2\",solver=\"liblinear\")\n",
    "mr.fit(data_train_scaled_67.iloc[:,:(data_train_scaled_67.shape[1]-1)],data_train_scaled_67.iloc[:,(data_train_scaled_67.shape[1]-1)])\n",
    "\n",
    "pred = mr.predict(data_test_scaled_67.iloc[:,:(data_test_scaled_67.shape[1]-1)])\n",
    "print(sum(pred == data_test_scaled_67.iloc[:,(data_test_scaled_67.shape[1]-1)])/len(pred))"
   ]
  },
  {
   "cell_type": "code",
   "execution_count": null,
   "metadata": {},
   "outputs": [
    {
     "name": "stdout",
     "output_type": "stream",
     "text": [
      "0.7533333333333333\n"
     ]
    }
   ],
   "source": [
    "# 60s and 80s\n",
    "data_train_scaled_68 = pd.concat([data_train_scaled_60,data_train_scaled_80],axis=0)\n",
    "data_test_scaled_68 = pd.concat([data_test_scaled_60,data_test_scaled_80],axis=0)\n",
    "mr = LogisticRegression(penalty=\"l2\",solver=\"liblinear\")\n",
    "mr.fit(data_train_scaled_68.iloc[:,:(data_train_scaled_68.shape[1]-1)],data_train_scaled_68.iloc[:,(data_train_scaled_68.shape[1]-1)])\n",
    "\n",
    "pred = mr.predict(data_test_scaled_68.iloc[:,:(data_test_scaled_68.shape[1]-1)])\n",
    "print(sum(pred == data_test_scaled_68.iloc[:,(data_test_scaled_68.shape[1]-1)])/len(pred))"
   ]
  },
  {
   "cell_type": "code",
   "execution_count": null,
   "metadata": {},
   "outputs": [
    {
     "name": "stdout",
     "output_type": "stream",
     "text": [
      "0.8742138364779874\n"
     ]
    }
   ],
   "source": [
    "# 60s and 90s\n",
    "data_train_scaled_69 = pd.concat([data_train_scaled_60,data_train_scaled_90],axis=0)\n",
    "data_test_scaled_69 = pd.concat([data_test_scaled_60,data_test_scaled_90],axis=0)\n",
    "mr = LogisticRegression(penalty=\"l2\",solver=\"liblinear\")\n",
    "mr.fit(data_train_scaled_69.iloc[:,:(data_train_scaled_69.shape[1]-1)],data_train_scaled_69.iloc[:,(data_train_scaled_69.shape[1]-1)])\n",
    "\n",
    "pred = mr.predict(data_test_scaled_69.iloc[:,:(data_test_scaled_69.shape[1]-1)])\n",
    "print(sum(pred == data_test_scaled_69.iloc[:,(data_test_scaled_69.shape[1]-1)])/len(pred))"
   ]
  },
  {
   "cell_type": "code",
   "execution_count": null,
   "metadata": {},
   "outputs": [
    {
     "name": "stdout",
     "output_type": "stream",
     "text": [
      "0.8993288590604027\n"
     ]
    }
   ],
   "source": [
    "# 60s and 00s\n",
    "data_train_scaled_600 = pd.concat([data_train_scaled_60,data_train_scaled_00],axis=0)\n",
    "data_test_scaled_600 = pd.concat([data_test_scaled_60,data_test_scaled_00],axis=0)\n",
    "mr = LogisticRegression(penalty=\"l2\",solver=\"liblinear\")\n",
    "mr.fit(data_train_scaled_600.iloc[:,:(data_train_scaled_600.shape[1]-1)],data_train_scaled_600.iloc[:,(data_train_scaled_600.shape[1]-1)])\n",
    "\n",
    "pred = mr.predict(data_test_scaled_600.iloc[:,:(data_test_scaled_600.shape[1]-1)])\n",
    "print(sum(pred == data_test_scaled_600.iloc[:,(data_test_scaled_600.shape[1]-1)])/len(pred))"
   ]
  },
  {
   "cell_type": "code",
   "execution_count": null,
   "metadata": {},
   "outputs": [
    {
     "name": "stdout",
     "output_type": "stream",
     "text": [
      "0.8855421686746988\n"
     ]
    }
   ],
   "source": [
    "# 60s and 10s\n",
    "data_train_scaled_61 = pd.concat([data_train_scaled_60,data_train_scaled_10],axis=0)\n",
    "data_test_scaled_61 = pd.concat([data_test_scaled_60,data_test_scaled_10],axis=0)\n",
    "mr = LogisticRegression(penalty=\"l2\",solver=\"liblinear\")\n",
    "mr.fit(data_train_scaled_61.iloc[:,:(data_train_scaled_61.shape[1]-1)],data_train_scaled_61.iloc[:,(data_train_scaled_61.shape[1]-1)])\n",
    "\n",
    "pred = mr.predict(data_test_scaled_61.iloc[:,:(data_test_scaled_61.shape[1]-1)])\n",
    "print(sum(pred == data_test_scaled_61.iloc[:,(data_test_scaled_61.shape[1]-1)])/len(pred))"
   ]
  },
  {
   "cell_type": "code",
   "execution_count": null,
   "metadata": {},
   "outputs": [
    {
     "name": "stdout",
     "output_type": "stream",
     "text": [
      "0.7402597402597403\n"
     ]
    }
   ],
   "source": [
    "# 70s and 80s\n",
    "data_train_scaled_78 = pd.concat([data_train_scaled_70,data_train_scaled_80],axis=0)\n",
    "data_test_scaled_78 = pd.concat([data_test_scaled_70,data_test_scaled_80],axis=0)\n",
    "mr = LogisticRegression(penalty=\"l2\",solver=\"liblinear\")\n",
    "mr.fit(data_train_scaled_78.iloc[:,:(data_train_scaled_78.shape[1]-1)],data_train_scaled_78.iloc[:,(data_train_scaled_78.shape[1]-1)])\n",
    "\n",
    "pred = mr.predict(data_test_scaled_78.iloc[:,:(data_test_scaled_78.shape[1]-1)])\n",
    "print(sum(pred == data_test_scaled_78.iloc[:,(data_test_scaled_78.shape[1]-1)])/len(pred))"
   ]
  },
  {
   "cell_type": "code",
   "execution_count": null,
   "metadata": {},
   "outputs": [
    {
     "name": "stdout",
     "output_type": "stream",
     "text": [
      "0.8773006134969326\n"
     ]
    }
   ],
   "source": [
    "# 70s and 90s\n",
    "data_train_scaled_79 = pd.concat([data_train_scaled_70,data_train_scaled_90],axis=0)\n",
    "data_test_scaled_79 = pd.concat([data_test_scaled_70,data_test_scaled_90],axis=0)\n",
    "mr = LogisticRegression(penalty=\"l2\",solver=\"liblinear\")\n",
    "mr.fit(data_train_scaled_79.iloc[:,:(data_train_scaled_79.shape[1]-1)],data_train_scaled_79.iloc[:,(data_train_scaled_79.shape[1]-1)])\n",
    "\n",
    "pred = mr.predict(data_test_scaled_79.iloc[:,:(data_test_scaled_79.shape[1]-1)])\n",
    "print(sum(pred == data_test_scaled_79.iloc[:,(data_test_scaled_79.shape[1]-1)])/len(pred))"
   ]
  },
  {
   "cell_type": "code",
   "execution_count": null,
   "metadata": {},
   "outputs": [
    {
     "name": "stdout",
     "output_type": "stream",
     "text": [
      "0.9084967320261438\n"
     ]
    }
   ],
   "source": [
    "# 70s and 00s\n",
    "data_train_scaled_700 = pd.concat([data_train_scaled_70,data_train_scaled_00],axis=0)\n",
    "data_test_scaled_700 = pd.concat([data_test_scaled_70,data_test_scaled_00],axis=0)\n",
    "mr = LogisticRegression(penalty=\"l2\",solver=\"liblinear\")\n",
    "mr.fit(data_train_scaled_700.iloc[:,:(data_train_scaled_700.shape[1]-1)],data_train_scaled_700.iloc[:,(data_train_scaled_700.shape[1]-1)])\n",
    "\n",
    "pred = mr.predict(data_test_scaled_700.iloc[:,:(data_test_scaled_700.shape[1]-1)])\n",
    "print(sum(pred == data_test_scaled_700.iloc[:,(data_test_scaled_700.shape[1]-1)])/len(pred))"
   ]
  },
  {
   "cell_type": "code",
   "execution_count": null,
   "metadata": {},
   "outputs": [
    {
     "name": "stdout",
     "output_type": "stream",
     "text": [
      "0.9\n"
     ]
    }
   ],
   "source": [
    "# 70s and 10s\n",
    "data_train_scaled_71 = pd.concat([data_train_scaled_70,data_train_scaled_10],axis=0)\n",
    "data_test_scaled_71 = pd.concat([data_test_scaled_70,data_test_scaled_10],axis=0)\n",
    "mr = LogisticRegression(penalty=\"l2\",solver=\"liblinear\")\n",
    "mr.fit(data_train_scaled_71.iloc[:,:(data_train_scaled_71.shape[1]-1)],data_train_scaled_71.iloc[:,(data_train_scaled_71.shape[1]-1)])\n",
    "\n",
    "pred = mr.predict(data_test_scaled_71.iloc[:,:(data_test_scaled_71.shape[1]-1)])\n",
    "print(sum(pred == data_test_scaled_71.iloc[:,(data_test_scaled_71.shape[1]-1)])/len(pred))"
   ]
  },
  {
   "cell_type": "code",
   "execution_count": null,
   "metadata": {},
   "outputs": [
    {
     "name": "stdout",
     "output_type": "stream",
     "text": [
      "0.8435374149659864\n"
     ]
    }
   ],
   "source": [
    "# 80s and 90s\n",
    "data_train_scaled_89 = pd.concat([data_train_scaled_80,data_train_scaled_90],axis=0)\n",
    "data_test_scaled_89 = pd.concat([data_test_scaled_80,data_test_scaled_90],axis=0)\n",
    "mr = LogisticRegression(penalty=\"l2\",solver=\"liblinear\")\n",
    "mr.fit(data_train_scaled_89.iloc[:,:(data_train_scaled_89.shape[1]-1)],data_train_scaled_89.iloc[:,(data_train_scaled_89.shape[1]-1)])\n",
    "\n",
    "pred = mr.predict(data_test_scaled_89.iloc[:,:(data_test_scaled_89.shape[1]-1)])\n",
    "print(sum(pred == data_test_scaled_89.iloc[:,(data_test_scaled_89.shape[1]-1)])/len(pred))"
   ]
  },
  {
   "cell_type": "code",
   "execution_count": null,
   "metadata": {},
   "outputs": [
    {
     "name": "stdout",
     "output_type": "stream",
     "text": [
      "0.8686131386861314\n"
     ]
    }
   ],
   "source": [
    "# 80s and 00s\n",
    "data_train_scaled_800 = pd.concat([data_train_scaled_80,data_train_scaled_00],axis=0)\n",
    "data_test_scaled_800 = pd.concat([data_test_scaled_80,data_test_scaled_00],axis=0)\n",
    "mr = LogisticRegression(penalty=\"l2\",solver=\"liblinear\")\n",
    "mr.fit(data_train_scaled_800.iloc[:,:(data_train_scaled_800.shape[1]-1)],data_train_scaled_800.iloc[:,(data_train_scaled_800.shape[1]-1)])\n",
    "\n",
    "pred = mr.predict(data_test_scaled_800.iloc[:,:(data_test_scaled_800.shape[1]-1)])\n",
    "print(sum(pred == data_test_scaled_800.iloc[:,(data_test_scaled_800.shape[1]-1)])/len(pred))"
   ]
  },
  {
   "cell_type": "code",
   "execution_count": null,
   "metadata": {},
   "outputs": [
    {
     "name": "stdout",
     "output_type": "stream",
     "text": [
      "0.8766233766233766\n"
     ]
    }
   ],
   "source": [
    "# 80s and 10s\n",
    "data_train_scaled_81 = pd.concat([data_train_scaled_80,data_train_scaled_10],axis=0)\n",
    "data_test_scaled_81 = pd.concat([data_test_scaled_80,data_test_scaled_10],axis=0)\n",
    "mr = LogisticRegression(penalty=\"l2\",solver=\"liblinear\")\n",
    "mr.fit(data_train_scaled_81.iloc[:,:(data_train_scaled_81.shape[1]-1)],data_train_scaled_81.iloc[:,(data_train_scaled_81.shape[1]-1)])\n",
    "\n",
    "pred = mr.predict(data_test_scaled_81.iloc[:,:(data_test_scaled_81.shape[1]-1)])\n",
    "print(sum(pred == data_test_scaled_81.iloc[:,(data_test_scaled_81.shape[1]-1)])/len(pred))"
   ]
  },
  {
   "cell_type": "code",
   "execution_count": null,
   "metadata": {},
   "outputs": [
    {
     "name": "stdout",
     "output_type": "stream",
     "text": [
      "0.7465753424657534\n"
     ]
    }
   ],
   "source": [
    "# 90s and 00s\n",
    "data_train_scaled_900 = pd.concat([data_train_scaled_90,data_train_scaled_00],axis=0)\n",
    "data_test_scaled_900 = pd.concat([data_test_scaled_90,data_test_scaled_00],axis=0)\n",
    "mr = LogisticRegression(penalty=\"l2\",solver=\"liblinear\")\n",
    "mr.fit(data_train_scaled_900.iloc[:,:(data_train_scaled_900.shape[1]-1)],data_train_scaled_900.iloc[:,(data_train_scaled_900.shape[1]-1)])\n",
    "\n",
    "pred = mr.predict(data_test_scaled_900.iloc[:,:(data_test_scaled_900.shape[1]-1)])\n",
    "print(sum(pred == data_test_scaled_900.iloc[:,(data_test_scaled_900.shape[1]-1)])/len(pred))"
   ]
  },
  {
   "cell_type": "code",
   "execution_count": null,
   "metadata": {},
   "outputs": [
    {
     "name": "stdout",
     "output_type": "stream",
     "text": [
      "0.8220858895705522\n"
     ]
    }
   ],
   "source": [
    "# 90s and 10s\n",
    "data_train_scaled_91 = pd.concat([data_train_scaled_90,data_train_scaled_10],axis=0)\n",
    "data_test_scaled_91 = pd.concat([data_test_scaled_90,data_test_scaled_10],axis=0)\n",
    "mr = LogisticRegression(penalty=\"l2\",solver=\"liblinear\")\n",
    "mr.fit(data_train_scaled_91.iloc[:,:(data_train_scaled_91.shape[1]-1)],data_train_scaled_91.iloc[:,(data_train_scaled_91.shape[1]-1)])\n",
    "\n",
    "pred = mr.predict(data_test_scaled_91.iloc[:,:(data_test_scaled_91.shape[1]-1)])\n",
    "print(sum(pred == data_test_scaled_91.iloc[:,(data_test_scaled_91.shape[1]-1)])/len(pred))"
   ]
  },
  {
   "cell_type": "code",
   "execution_count": null,
   "metadata": {},
   "outputs": [
    {
     "name": "stdout",
     "output_type": "stream",
     "text": [
      "0.7712418300653595\n"
     ]
    }
   ],
   "source": [
    "# 00s and 10s\n",
    "data_train_scaled_01 = pd.concat([data_train_scaled_00,data_train_scaled_10],axis=0)\n",
    "data_test_scaled_01 = pd.concat([data_test_scaled_00,data_test_scaled_10],axis=0)\n",
    "mr = LogisticRegression(penalty=\"l2\",solver=\"liblinear\")\n",
    "mr.fit(data_train_scaled_01.iloc[:,:(data_train_scaled_01.shape[1]-1)],data_train_scaled_01.iloc[:,(data_train_scaled_01.shape[1]-1)])\n",
    "\n",
    "pred = mr.predict(data_test_scaled_01.iloc[:,:(data_test_scaled_01.shape[1]-1)])\n",
    "print(sum(pred == data_test_scaled_01.iloc[:,(data_test_scaled_01.shape[1]-1)])/len(pred))"
   ]
  },
  {
   "cell_type": "code",
   "execution_count": null,
   "metadata": {},
   "outputs": [
    {
     "data": {
      "text/plain": [
       "<Axes: >"
      ]
     },
     "metadata": {},
     "output_type": "display_data"
    },
    {
     "data": {
      "image/png": "[encoded data removed]",
      "text/plain": [
       "<Figure size 640x480 with 2 Axes>"
      ]
     },
     "metadata": {},
     "output_type": "display_data"
    }
   ],
   "source": [
    "import seaborn as sns\n",
    "\n",
    "div_mat = np.zeros((6,6))\n",
    "div_mat[0,1] = 0.6084\n",
    "div_mat[0,2] = 0.7533\n",
    "div_mat[0,3] = 0.8742\n",
    "div_mat[0,4] = 0.8993\n",
    "div_mat[0,5] = 0.8855\n",
    "div_mat[1,2] = 0.7403\n",
    "div_mat[1,3] = 0.8773\n",
    "div_mat[1,4] = 0.9085\n",
    "div_mat[1,5] = 0.9\n",
    "div_mat[2,3] = 0.8435\n",
    "div_mat[2,4] = 0.8686\n",
    "div_mat[2,5] = 0.8766\n",
    "div_mat[3,4] = 0.7466\n",
    "div_mat[3,5] = 0.8221\n",
    "div_mat[4,5] = 0.7712\n",
    "for i in range(6):\n",
    "    for j in range(i):\n",
    "        div_mat[i,j] = div_mat[j,i]\n",
    "\n",
    "div_mat = pd.DataFrame(div_mat)\n",
    "div_mat.columns = [\"60s\",\"70s\",\"80s\",\"90s\",\"00s\",\"10s\"]\n",
    "div_mat.index = [\"60s\",\"70s\",\"80s\",\"90s\",\"00s\",\"10s\"]\n",
    "\n",
    "sns.heatmap(div_mat)"
   ]
  },
  {
   "attachments": {},
   "cell_type": "markdown",
   "metadata": {},
   "source": [
    "From the above result, it seems that 60s, 70s and 80s are more similar compared with other decades. The following section focuses on combining the three decades"
   ]
  },
  {
   "attachments": {},
   "cell_type": "markdown",
   "metadata": {},
   "source": [
    "Compared with $l_1$ penalty, $l_2$ is better."
   ]
  },
  {
   "attachments": {},
   "cell_type": "markdown",
   "metadata": {},
   "source": [
    "# Lemmatize and Bigram\n",
    "Perform Lemmatize and bigram to lyrics and perform logistic regression"
   ]
  },
  {
   "cell_type": "code",
   "execution_count": 18,
   "metadata": {},
   "outputs": [],
   "source": [
    "from nltk.stem.wordnet import WordNetLemmatizer\n",
    "from gensim.models import Phrases\n",
    "\n",
    "lemmatizer = WordNetLemmatizer()\n",
    "def lemmatize(L):\n",
    "    res = list(map(lemmatizer.lemmatize,L))\n",
    "    return res\n",
    "df[\"lyrics\"]=df[\"lyrics\"].map(lemmatize)"
   ]
  },
  {
   "cell_type": "code",
   "execution_count": 19,
   "metadata": {},
   "outputs": [],
   "source": [
    "docs = list(df[\"lyrics\"])\n",
    "bigram = Phrases(docs,min_count=20)\n",
    "for idx in range(len(docs)):\n",
    "    for token in bigram[docs[idx]]:\n",
    "        if '_' in token:\n",
    "            docs[idx].append(token)"
   ]
  },
  {
   "cell_type": "code",
   "execution_count": 20,
   "metadata": {},
   "outputs": [],
   "source": [
    "from gensim.corpora import Dictionary\n",
    "dict_lda = Dictionary(docs)\n",
    "# dict_lda.filter_extremes(no_below=20,no_above=.5)\n",
    "dict_lda.filter_extremes(no_below=20)\n",
    "\n",
    "corpus = [dict_lda.doc2bow(doc) for doc in docs]"
   ]
  },
  {
   "cell_type": "code",
   "execution_count": null,
   "metadata": {},
   "outputs": [
    {
     "name": "stdout",
     "output_type": "stream",
     "text": [
      "Number of unique tokens: 2647\n",
      "Number of documents: 5125\n"
     ]
    }
   ],
   "source": [
    "print('Number of unique tokens: %d' % len(dict_lda))\n",
    "print('Number of documents: %d' % len(corpus))"
   ]
  }
 ],
 "metadata": {
  "kernelspec": {
   "display_name": "base",
   "language": "python",
   "name": "python3"
  },
  "language_info": {
   "codemirror_mode": {
    "name": "ipython",
    "version": 3
   },
   "file_extension": ".py",
   "mimetype": "text/x-python",
   "name": "python",
   "nbconvert_exporter": "python",
   "pygments_lexer": "ipython3",
   "version": "3.10.9"
  },
  "orig_nbformat": 4
 },
 "nbformat": 4,
 "nbformat_minor": 2
}
